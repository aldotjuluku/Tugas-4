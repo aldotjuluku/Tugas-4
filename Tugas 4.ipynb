{
 "cells": [
  {
   "cell_type": "code",
   "execution_count": 1,
   "metadata": {},
   "outputs": [],
   "source": [
    "#assign data survey\n",
    "#install library\n",
    "mydata <- read.csv('data survey.csv', header=TRUE)\n",
    "library(psych)"
   ]
  },
  {
   "cell_type": "code",
   "execution_count": 7,
   "metadata": {},
   "outputs": [],
   "source": [
    "attach(mydata)"
   ]
  },
  {
   "cell_type": "markdown",
   "metadata": {},
   "source": [
    "# Cronbach Alpha"
   ]
  },
  {
   "cell_type": "code",
   "execution_count": 2,
   "metadata": {
    "scrolled": false
   },
   "outputs": [
    {
     "data": {
      "text/plain": [
       "\n",
       "Reliability analysis   \n",
       "Call: alpha(x = mydata)\n",
       "\n",
       "  raw_alpha std.alpha G6(smc) average_r S/N    ase mean   sd median_r\n",
       "      0.88      0.88     0.9      0.38 7.5 0.0079  2.2 0.77     0.39\n",
       "\n",
       " lower alpha upper     95% confidence boundaries\n",
       "0.86 0.88 0.89 \n",
       "\n",
       " Reliability if an item is dropped:\n",
       "    raw_alpha std.alpha G6(smc) average_r S/N alpha se var.r med.r\n",
       "Q1       0.87      0.88    0.89      0.39 7.1   0.0084 0.025  0.41\n",
       "Q2       0.87      0.87    0.88      0.38 6.7   0.0088 0.024  0.38\n",
       "Q3       0.87      0.87    0.89      0.39 7.0   0.0085 0.024  0.39\n",
       "Q4       0.87      0.87    0.88      0.38 6.6   0.0088 0.023  0.39\n",
       "Q5       0.86      0.87    0.88      0.38 6.6   0.0089 0.023  0.39\n",
       "Q6       0.88      0.89    0.90      0.41 7.8   0.0077 0.021  0.43\n",
       "Q7       0.89      0.89    0.90      0.42 8.1   0.0074 0.017  0.43\n",
       "Q8       0.87      0.87    0.89      0.38 6.7   0.0088 0.026  0.39\n",
       "Q9       0.86      0.86    0.88      0.36 6.2   0.0095 0.021  0.38\n",
       "Q10      0.86      0.87    0.88      0.37 6.6   0.0090 0.023  0.38\n",
       "Q11      0.87      0.87    0.89      0.39 6.9   0.0086 0.023  0.42\n",
       "Q12      0.86      0.87    0.88      0.37 6.4   0.0091 0.022  0.38\n",
       "\n",
       " Item statistics \n",
       "      n raw.r std.r r.cor r.drop mean  sd\n",
       "Q1  500  0.61  0.61  0.56   0.52  2.3 1.2\n",
       "Q2  500  0.70  0.71  0.68   0.63  2.2 1.1\n",
       "Q3  500  0.63  0.64  0.60   0.55  1.6 1.0\n",
       "Q4  500  0.71  0.73  0.71   0.65  2.0 1.1\n",
       "Q5  500  0.72  0.72  0.71   0.65  2.1 1.2\n",
       "Q6  500  0.47  0.46  0.38   0.35  2.3 1.3\n",
       "Q7  500  0.40  0.38  0.29   0.27  3.8 1.3\n",
       "Q8  500  0.71  0.69  0.66   0.62  2.0 1.4\n",
       "Q9  500  0.82  0.82  0.82   0.77  2.0 1.2\n",
       "Q10 500  0.73  0.73  0.71   0.66  2.2 1.3\n",
       "Q11 500  0.64  0.65  0.62   0.57  1.7 1.0\n",
       "Q12 500  0.77  0.78  0.77   0.71  1.7 1.1\n",
       "\n",
       "Non missing response frequency for each item\n",
       "       1    2    3    4    5 miss\n",
       "Q1  0.39 0.08 0.36 0.13 0.03    0\n",
       "Q2  0.32 0.35 0.17 0.14 0.02    0\n",
       "Q3  0.69 0.11 0.13 0.05 0.02    0\n",
       "Q4  0.40 0.33 0.15 0.10 0.02    0\n",
       "Q5  0.39 0.31 0.14 0.13 0.03    0\n",
       "Q6  0.42 0.12 0.26 0.15 0.05    0\n",
       "Q7  0.10 0.08 0.10 0.37 0.34    0\n",
       "Q8  0.58 0.06 0.17 0.14 0.06    0\n",
       "Q9  0.55 0.04 0.27 0.11 0.03    0\n",
       "Q10 0.48 0.06 0.29 0.14 0.04    0\n",
       "Q11 0.68 0.08 0.17 0.07 0.01    0\n",
       "Q12 0.68 0.06 0.18 0.07 0.01    0"
      ]
     },
     "metadata": {},
     "output_type": "display_data"
    }
   ],
   "source": [
    "alpha(mydata)"
   ]
  },
  {
   "cell_type": "code",
   "execution_count": 3,
   "metadata": {},
   "outputs": [
    {
     "data": {
      "text/html": [
       "<ol class=list-inline>\n",
       "\t<li>'Q1'</li>\n",
       "\t<li>'Q2'</li>\n",
       "\t<li>'Q3'</li>\n",
       "\t<li>'Q4'</li>\n",
       "\t<li>'Q5'</li>\n",
       "\t<li>'Q6'</li>\n",
       "\t<li>'Q7'</li>\n",
       "\t<li>'Q8'</li>\n",
       "\t<li>'Q9'</li>\n",
       "\t<li>'Q10'</li>\n",
       "\t<li>'Q11'</li>\n",
       "\t<li>'Q12'</li>\n",
       "</ol>\n"
      ],
      "text/latex": [
       "\\begin{enumerate*}\n",
       "\\item 'Q1'\n",
       "\\item 'Q2'\n",
       "\\item 'Q3'\n",
       "\\item 'Q4'\n",
       "\\item 'Q5'\n",
       "\\item 'Q6'\n",
       "\\item 'Q7'\n",
       "\\item 'Q8'\n",
       "\\item 'Q9'\n",
       "\\item 'Q10'\n",
       "\\item 'Q11'\n",
       "\\item 'Q12'\n",
       "\\end{enumerate*}\n"
      ],
      "text/markdown": [
       "1. 'Q1'\n",
       "2. 'Q2'\n",
       "3. 'Q3'\n",
       "4. 'Q4'\n",
       "5. 'Q5'\n",
       "6. 'Q6'\n",
       "7. 'Q7'\n",
       "8. 'Q8'\n",
       "9. 'Q9'\n",
       "10. 'Q10'\n",
       "11. 'Q11'\n",
       "12. 'Q12'\n",
       "\n",
       "\n"
      ],
      "text/plain": [
       " [1] \"Q1\"  \"Q2\"  \"Q3\"  \"Q4\"  \"Q5\"  \"Q6\"  \"Q7\"  \"Q8\"  \"Q9\"  \"Q10\" \"Q11\" \"Q12\""
      ]
     },
     "metadata": {},
     "output_type": "display_data"
    }
   ],
   "source": [
    "names(mydata)"
   ]
  },
  {
   "cell_type": "code",
   "execution_count": 4,
   "metadata": {},
   "outputs": [
    {
     "name": "stdout",
     "output_type": "stream",
     "text": [
      "[1] \"Q1  = Seberapa sering anda menggunakan bahasa pemrograman C?\"\n",
      "[1] \"Q2  = Seberapa tahukah anda tentang bahasa permograman Java?\"\n",
      "[1] \"Q3  = Pernahkah anda membuat program menggunakan bahasa pemrograman Python?\"\n",
      "[1] \"Q4  = Seberapa tahukah anda tentang Pemrograman Interface (API)\"\n",
      "[1] \"Q5  = Seberapa tahukah anda tentang Pemrograman Berorientasi Objek (OOP)?\"\n",
      "[1] \"Q6  = Seberapa sering anda menggunakan programming software bajakan?\"\n",
      "[1] \"Q7  = Seberapa perlunya dokumen manual/tutorial ketika membuat program?\"\n",
      "[1] \"Q8  = Pernakah anda melakukan trial dan error atau mengembangkan program yang dibuat orang lain?\"\n",
      "[1] \"Q9  = Seberapa seringkah anda menggunakan Extension saat membuat program?\"\n",
      "[1] \"Q10 = Seberapa sering anda mengelola (menginstal,menghapus,menonaktifkan instalasi) Extension anda?\"\n",
      "[1] \"Q11 = Apakah anda sering menggunakan Extension berbayar?\"\n",
      "[1] \"Q12 = Apakah anda sering menggunakan Auto Indent Extension\"\n"
     ]
    }
   ],
   "source": [
    "print('Q1  = Seberapa sering anda menggunakan bahasa pemrograman C?')\n",
    "print('Q2  = Seberapa tahukah anda tentang bahasa permograman Java?') \n",
    "print('Q3  = Pernahkah anda membuat program menggunakan bahasa pemrograman Python?')\n",
    "print('Q4  = Seberapa tahukah anda tentang Pemrograman Interface (API)')\n",
    "print('Q5  = Seberapa tahukah anda tentang Pemrograman Berorientasi Objek (OOP)?')\n",
    "print('Q6  = Seberapa sering anda menggunakan programming software bajakan?')\n",
    "print('Q7  = Seberapa perlunya dokumen manual/tutorial ketika membuat program?')\n",
    "print('Q8  = Pernakah anda melakukan trial dan error atau mengembangkan program yang dibuat orang lain?')\n",
    "print('Q9  = Seberapa seringkah anda menggunakan Extension saat membuat program?')\n",
    "print('Q10 = Seberapa sering anda mengelola (menginstal,menghapus,menonaktifkan instalasi) Extension anda?')\n",
    "print('Q11 = Apakah anda sering menggunakan Extension berbayar?')\n",
    "print('Q12 = Apakah anda sering menggunakan Auto Indent Extension')"
   ]
  },
  {
   "cell_type": "markdown",
   "metadata": {},
   "source": [
    "# T-Test"
   ]
  },
  {
   "cell_type": "markdown",
   "metadata": {},
   "source": [
    "### One Sample T-Test"
   ]
  },
  {
   "cell_type": "code",
   "execution_count": 6,
   "metadata": {},
   "outputs": [],
   "source": [
    "Q1=read.delim(\"clipboard\")"
   ]
  },
  {
   "cell_type": "code",
   "execution_count": 7,
   "metadata": {},
   "outputs": [
    {
     "data": {
      "text/plain": [
       "\n",
       "\tOne Sample t-test\n",
       "\n",
       "data:  Q1\n",
       "t = -105.26, df = 499, p-value < 2.2e-16\n",
       "alternative hypothesis: true mean is less than 8\n",
       "95 percent confidence interval:\n",
       "     -Inf 2.412863\n",
       "sample estimates:\n",
       "mean of x \n",
       "    2.324 \n"
      ]
     },
     "metadata": {},
     "output_type": "display_data"
    }
   ],
   "source": [
    "t.test(Q1, mu=8, alternativ=\"less\", conf.level=0.95)"
   ]
  },
  {
   "cell_type": "code",
   "execution_count": 11,
   "metadata": {},
   "outputs": [],
   "source": [
    "Q2=read.delim(\"clipboard\")"
   ]
  },
  {
   "cell_type": "code",
   "execution_count": 12,
   "metadata": {},
   "outputs": [
    {
     "data": {
      "text/plain": [
       "\n",
       "\tOne Sample t-test\n",
       "\n",
       "data:  Q2\n",
       "t = -119.08, df = 499, p-value < 2.2e-16\n",
       "alternative hypothesis: true mean is less than 8\n",
       "95 percent confidence interval:\n",
       "     -Inf 2.272377\n",
       "sample estimates:\n",
       "mean of x \n",
       "    2.192 \n"
      ]
     },
     "metadata": {},
     "output_type": "display_data"
    }
   ],
   "source": [
    "t.test(Q2, mu=8, alternative=\"less\", conf.level=0.95)"
   ]
  },
  {
   "cell_type": "code",
   "execution_count": 23,
   "metadata": {},
   "outputs": [],
   "source": [
    "Q3=read.delim(\"clipboard\")"
   ]
  },
  {
   "cell_type": "code",
   "execution_count": 24,
   "metadata": {},
   "outputs": [
    {
     "data": {
      "text/plain": [
       "\n",
       "\tOne Sample t-test\n",
       "\n",
       "data:  Q3\n",
       "t = -139.92, df = 499, p-value < 2.2e-16\n",
       "alternative hypothesis: true mean is less than 8\n",
       "95 percent confidence interval:\n",
       "     -Inf 1.675376\n",
       "sample estimates:\n",
       "mean of x \n",
       "      1.6 \n"
      ]
     },
     "metadata": {},
     "output_type": "display_data"
    }
   ],
   "source": [
    "t.test(Q3, mu=8, alternative=\"less\", conf.level=0.95)"
   ]
  },
  {
   "cell_type": "code",
   "execution_count": 25,
   "metadata": {},
   "outputs": [],
   "source": [
    "Q4=read.delim(\"clipboard\")"
   ]
  },
  {
   "cell_type": "code",
   "execution_count": 26,
   "metadata": {},
   "outputs": [
    {
     "data": {
      "text/plain": [
       "\n",
       "\tOne Sample t-test\n",
       "\n",
       "data:  Q4\n",
       "t = -127.56, df = 499, p-value < 2.2e-16\n",
       "alternative hypothesis: true mean is less than 8\n",
       "95 percent confidence interval:\n",
       "     -Inf 2.077512\n",
       "sample estimates:\n",
       "mean of x \n",
       "        2 \n"
      ]
     },
     "metadata": {},
     "output_type": "display_data"
    }
   ],
   "source": [
    "t.test(Q4, mu=8, alternative=\"less\", conf.level=0.95)"
   ]
  },
  {
   "cell_type": "code",
   "execution_count": 27,
   "metadata": {},
   "outputs": [],
   "source": [
    "Q5=read.delim(\"clipboard\")"
   ]
  },
  {
   "cell_type": "code",
   "execution_count": 28,
   "metadata": {},
   "outputs": [
    {
     "data": {
      "text/plain": [
       "\n",
       "\tOne Sample t-test\n",
       "\n",
       "data:  Q5\n",
       "t = -113.79, df = 499, p-value < 2.2e-16\n",
       "alternative hypothesis: true mean is less than 8\n",
       "95 percent confidence interval:\n",
       "     -Inf 2.191356\n",
       "sample estimates:\n",
       "mean of x \n",
       "    2.106 \n"
      ]
     },
     "metadata": {},
     "output_type": "display_data"
    }
   ],
   "source": [
    "t.test(Q5, mu=8, alternative=\"less\", conf.level=0.95)"
   ]
  },
  {
   "cell_type": "code",
   "execution_count": 29,
   "metadata": {},
   "outputs": [],
   "source": [
    "Q6=read.delim(\"clipboard\")"
   ]
  },
  {
   "cell_type": "code",
   "execution_count": 30,
   "metadata": {},
   "outputs": [
    {
     "data": {
      "text/plain": [
       "\n",
       "\tOne Sample t-test\n",
       "\n",
       "data:  Q6\n",
       "t = 40.659, df = 499, p-value = 1\n",
       "alternative hypothesis: true mean is less than 0\n",
       "95 percent confidence interval:\n",
       "     -Inf 2.191356\n",
       "sample estimates:\n",
       "mean of x \n",
       "    2.106 \n"
      ]
     },
     "metadata": {},
     "output_type": "display_data"
    }
   ],
   "source": [
    "t.test(Q6, u=8, alternative=\"less\", conf.level=0.95)"
   ]
  },
  {
   "cell_type": "code",
   "execution_count": 31,
   "metadata": {},
   "outputs": [],
   "source": [
    "Q7=read.delim(\"clipboard\")"
   ]
  },
  {
   "cell_type": "code",
   "execution_count": 32,
   "metadata": {},
   "outputs": [
    {
     "data": {
      "text/plain": [
       "\n",
       "\tOne Sample t-test\n",
       "\n",
       "data:  Q7\n",
       "t = -74.414, df = 499, p-value < 2.2e-16\n",
       "alternative hypothesis: true mean is less than 8\n",
       "95 percent confidence interval:\n",
       "     -Inf 3.879319\n",
       "sample estimates:\n",
       "mean of x \n",
       "    3.786 \n"
      ]
     },
     "metadata": {},
     "output_type": "display_data"
    }
   ],
   "source": [
    "t.test(Q7, mu=8, alternative=\"less\", conf.level=0.95)"
   ]
  },
  {
   "cell_type": "code",
   "execution_count": 33,
   "metadata": {},
   "outputs": [],
   "source": [
    "Q8=read.delim(\"clipboard\")"
   ]
  },
  {
   "cell_type": "code",
   "execution_count": 34,
   "metadata": {},
   "outputs": [
    {
     "data": {
      "text/plain": [
       "\n",
       "\tOne Sample t-test\n",
       "\n",
       "data:  Q8\n",
       "t = -98.764, df = 499, p-value < 2.2e-16\n",
       "alternative hypothesis: true mean is less than 8\n",
       "95 percent confidence interval:\n",
       "     -Inf 2.133545\n",
       "sample estimates:\n",
       "mean of x \n",
       "    2.034 \n"
      ]
     },
     "metadata": {},
     "output_type": "display_data"
    }
   ],
   "source": [
    "t.test(Q8, mu=8, alternative=\"less\", conf.level=0.95)"
   ]
  },
  {
   "cell_type": "code",
   "execution_count": 38,
   "metadata": {},
   "outputs": [],
   "source": [
    "Q9=read.delim(\"clipboard\")"
   ]
  },
  {
   "cell_type": "code",
   "execution_count": 39,
   "metadata": {},
   "outputs": [
    {
     "data": {
      "text/plain": [
       "\n",
       "\tOne Sample t-test\n",
       "\n",
       "data:  Q9\n",
       "t = -107.02, df = 499, p-value < 2.2e-16\n",
       "alternative hypothesis: true mean is less than 8\n",
       "95 percent confidence interval:\n",
       "     -Inf 2.129801\n",
       "sample estimates:\n",
       "mean of x \n",
       "    2.038 \n"
      ]
     },
     "metadata": {},
     "output_type": "display_data"
    }
   ],
   "source": [
    "t.test(Q9, mu=8, alternative=\"less\", conf.level=0.95)"
   ]
  },
  {
   "cell_type": "code",
   "execution_count": 40,
   "metadata": {},
   "outputs": [],
   "source": [
    "Q10=read.delim(\"clipboard\")"
   ]
  },
  {
   "cell_type": "code",
   "execution_count": 41,
   "metadata": {},
   "outputs": [
    {
     "data": {
      "text/plain": [
       "\n",
       "\tOne Sample t-test\n",
       "\n",
       "data:  Q10\n",
       "t = -101.7, df = 499, p-value < 2.2e-16\n",
       "alternative hypothesis: true mean is less than 8\n",
       "95 percent confidence interval:\n",
       "     -Inf 2.299882\n",
       "sample estimates:\n",
       "mean of x \n",
       "    2.206 \n"
      ]
     },
     "metadata": {},
     "output_type": "display_data"
    }
   ],
   "source": [
    "t.test(Q10, mu=8, alternative=\"less\", conf.level=0.95)"
   ]
  },
  {
   "cell_type": "code",
   "execution_count": 42,
   "metadata": {},
   "outputs": [],
   "source": [
    "Q11=read.delim(\"clipboard\")"
   ]
  },
  {
   "cell_type": "code",
   "execution_count": 44,
   "metadata": {},
   "outputs": [
    {
     "data": {
      "text/plain": [
       "\n",
       "\tOne Sample t-test\n",
       "\n",
       "data:  Q11\n",
       "t = -137.28, df = 499, p-value < 2.2e-16\n",
       "alternative hypothesis: true mean is less than 8\n",
       "95 percent confidence interval:\n",
       "     -Inf 1.730176\n",
       "sample estimates:\n",
       "mean of x \n",
       "    1.654 \n"
      ]
     },
     "metadata": {},
     "output_type": "display_data"
    }
   ],
   "source": [
    "t.test(Q11, mu=8, alternative=\"less\", conf.level=0.95)"
   ]
  },
  {
   "cell_type": "code",
   "execution_count": 45,
   "metadata": {},
   "outputs": [],
   "source": [
    "Q12=read.delim(\"clipboard\")"
   ]
  },
  {
   "cell_type": "code",
   "execution_count": 47,
   "metadata": {},
   "outputs": [
    {
     "data": {
      "text/plain": [
       "\n",
       "\tOne Sample t-test\n",
       "\n",
       "data:  Q12\n",
       "t = -132.13, df = 499, p-value < 2.2e-16\n",
       "alternative hypothesis: true mean is less than 8\n",
       "95 percent confidence interval:\n",
       "     -Inf 1.758821\n",
       "sample estimates:\n",
       "mean of x \n",
       "     1.68 \n"
      ]
     },
     "metadata": {},
     "output_type": "display_data"
    }
   ],
   "source": [
    "t.test(Q12, mu=8, alternative=\"less\", conf.level=0.95)"
   ]
  },
  {
   "cell_type": "markdown",
   "metadata": {},
   "source": [
    "### Paired T-Test"
   ]
  },
  {
   "cell_type": "code",
   "execution_count": 11,
   "metadata": {},
   "outputs": [
    {
     "data": {
      "text/plain": [
       "\n",
       "\tPaired t-test\n",
       "\n",
       "data:  Q1 and Q2\n",
       "t = 2.5718, df = 499, p-value = 0.01041\n",
       "alternative hypothesis: true difference in means is not equal to 0\n",
       "95 percent confidence interval:\n",
       " 0.0311571 0.2328429\n",
       "sample estimates:\n",
       "mean of the differences \n",
       "                  0.132 \n"
      ]
     },
     "metadata": {},
     "output_type": "display_data"
    }
   ],
   "source": [
    "t.test(Q1, Q2, mu=0, alt=\"two.sided\", paired=T, conf.level=0.95)"
   ]
  },
  {
   "cell_type": "code",
   "execution_count": 13,
   "metadata": {},
   "outputs": [
    {
     "data": {
      "text/plain": [
       "\n",
       "\tPaired t-test\n",
       "\n",
       "data:  Q1 and Q3\n",
       "t = 12.523, df = 499, p-value < 2.2e-16\n",
       "alternative hypothesis: true difference in means is not equal to 0\n",
       "95 percent confidence interval:\n",
       " 0.6104133 0.8375867\n",
       "sample estimates:\n",
       "mean of the differences \n",
       "                  0.724 \n"
      ]
     },
     "metadata": {},
     "output_type": "display_data"
    }
   ],
   "source": [
    "t.test(Q1, Q3, mu=0, alt=\"two.sided\", paired=T, conf.level=0.95)"
   ]
  },
  {
   "cell_type": "code",
   "execution_count": 16,
   "metadata": {},
   "outputs": [
    {
     "data": {
      "text/plain": [
       "\n",
       "\tPaired t-test\n",
       "\n",
       "data:  Q1 and Q4\n",
       "t = 5.7452, df = 499, p-value = 1.599e-08\n",
       "alternative hypothesis: true difference in means is not equal to 0\n",
       "95 percent confidence interval:\n",
       " 0.2131989 0.4348011\n",
       "sample estimates:\n",
       "mean of the differences \n",
       "                  0.324 \n"
      ]
     },
     "metadata": {},
     "output_type": "display_data"
    }
   ],
   "source": [
    "t.test(Q1, Q4, mu=0, alt=\"two.sided\", paired=T, conf.level=0.95)"
   ]
  },
  {
   "cell_type": "code",
   "execution_count": 17,
   "metadata": {},
   "outputs": [
    {
     "data": {
      "text/plain": [
       "\n",
       "\tPaired t-test\n",
       "\n",
       "data:  Q1 and Q5\n",
       "t = 3.6557, df = 499, p-value = 0.0002837\n",
       "alternative hypothesis: true difference in means is not equal to 0\n",
       "95 percent confidence interval:\n",
       " 0.1008378 0.3351622\n",
       "sample estimates:\n",
       "mean of the differences \n",
       "                  0.218 \n"
      ]
     },
     "metadata": {},
     "output_type": "display_data"
    }
   ],
   "source": [
    "t.test(Q1, Q5, mu=0, alt=\"two.sided\", paired=T, conf.level=0.95)"
   ]
  },
  {
   "cell_type": "code",
   "execution_count": 18,
   "metadata": {},
   "outputs": [
    {
     "data": {
      "text/plain": [
       "\n",
       "\tPaired t-test\n",
       "\n",
       "data:  Q1 and Q6\n",
       "t = 0.23886, df = 499, p-value = 0.8113\n",
       "alternative hypothesis: true difference in means is not equal to 0\n",
       "95 percent confidence interval:\n",
       " -0.1300565  0.1660565\n",
       "sample estimates:\n",
       "mean of the differences \n",
       "                  0.018 \n"
      ]
     },
     "metadata": {},
     "output_type": "display_data"
    }
   ],
   "source": [
    "t.test(Q1, Q6, mu=0, alt=\"two.sided\", paired=T, conf.level=0.95)"
   ]
  },
  {
   "cell_type": "code",
   "execution_count": 19,
   "metadata": {},
   "outputs": [
    {
     "data": {
      "text/plain": [
       "\n",
       "\tPaired t-test\n",
       "\n",
       "data:  Q1 and Q7\n",
       "t = -20.554, df = 499, p-value < 2.2e-16\n",
       "alternative hypothesis: true difference in means is not equal to 0\n",
       "95 percent confidence interval:\n",
       " -1.601748 -1.322252\n",
       "sample estimates:\n",
       "mean of the differences \n",
       "                 -1.462 \n"
      ]
     },
     "metadata": {},
     "output_type": "display_data"
    }
   ],
   "source": [
    "t.test(Q1, Q7, mu=0, alt=\"two.sided\", paired=T, conf.level=0.95)"
   ]
  },
  {
   "cell_type": "code",
   "execution_count": 20,
   "metadata": {},
   "outputs": [
    {
     "data": {
      "text/plain": [
       "\n",
       "\tPaired t-test\n",
       "\n",
       "data:  Q1 and Q8\n",
       "t = 4.4018, df = 499, p-value = 1.314e-05\n",
       "alternative hypothesis: true difference in means is not equal to 0\n",
       "95 percent confidence interval:\n",
       " 0.1605591 0.4194409\n",
       "sample estimates:\n",
       "mean of the differences \n",
       "                   0.29 \n"
      ]
     },
     "metadata": {},
     "output_type": "display_data"
    }
   ],
   "source": [
    "t.test(Q1, Q8, mu=0, alt=\"two.sided\", paired=T, conf.level=0.95)"
   ]
  },
  {
   "cell_type": "code",
   "execution_count": 21,
   "metadata": {},
   "outputs": [
    {
     "data": {
      "text/plain": [
       "\n",
       "\tPaired t-test\n",
       "\n",
       "data:  Q1 and Q9\n",
       "t = 4.8711, df = 499, p-value = 1.493e-06\n",
       "alternative hypothesis: true difference in means is not equal to 0\n",
       "95 percent confidence interval:\n",
       " 0.1706434 0.4013566\n",
       "sample estimates:\n",
       "mean of the differences \n",
       "                  0.286 \n"
      ]
     },
     "metadata": {},
     "output_type": "display_data"
    }
   ],
   "source": [
    "t.test(Q1, Q9, mu=0, alt=\"two.sided\", paired=T, conf.level=0.95)"
   ]
  },
  {
   "cell_type": "code",
   "execution_count": 22,
   "metadata": {},
   "outputs": [
    {
     "data": {
      "text/plain": [
       "\n",
       "\tPaired t-test\n",
       "\n",
       "data:  Q1 and Q10\n",
       "t = 2.0052, df = 499, p-value = 0.04548\n",
       "alternative hypothesis: true difference in means is not equal to 0\n",
       "95 percent confidence interval:\n",
       " 0.002379754 0.233620246\n",
       "sample estimates:\n",
       "mean of the differences \n",
       "                  0.118 \n"
      ]
     },
     "metadata": {},
     "output_type": "display_data"
    }
   ],
   "source": [
    "t.test(Q1, Q10, mu=0, alt=\"two.sided\", paired=T, conf.level=0.95)"
   ]
  },
  {
   "cell_type": "code",
   "execution_count": 23,
   "metadata": {},
   "outputs": [
    {
     "data": {
      "text/plain": [
       "\n",
       "\tPaired t-test\n",
       "\n",
       "data:  Q1 and Q11\n",
       "t = 12.025, df = 499, p-value < 2.2e-16\n",
       "alternative hypothesis: true difference in means is not equal to 0\n",
       "95 percent confidence interval:\n",
       " 0.5605307 0.7794693\n",
       "sample estimates:\n",
       "mean of the differences \n",
       "                   0.67 \n"
      ]
     },
     "metadata": {},
     "output_type": "display_data"
    }
   ],
   "source": [
    "t.test(Q1, Q11, mu=0, alt=\"two.sided\", paired=T, conf.level=0.95)"
   ]
  },
  {
   "cell_type": "code",
   "execution_count": 24,
   "metadata": {},
   "outputs": [
    {
     "data": {
      "text/plain": [
       "\n",
       "\tPaired t-test\n",
       "\n",
       "data:  Q1 and Q12\n",
       "t = 11.741, df = 499, p-value < 2.2e-16\n",
       "alternative hypothesis: true difference in means is not equal to 0\n",
       "95 percent confidence interval:\n",
       " 0.5362342 0.7517658\n",
       "sample estimates:\n",
       "mean of the differences \n",
       "                  0.644 \n"
      ]
     },
     "metadata": {},
     "output_type": "display_data"
    }
   ],
   "source": [
    "t.test(Q1, Q12, mu=0, alt=\"two.sided\", paired=T, conf.level=0.95)"
   ]
  },
  {
   "cell_type": "code",
   "execution_count": 25,
   "metadata": {},
   "outputs": [
    {
     "data": {
      "text/plain": [
       "\n",
       "\tPaired t-test\n",
       "\n",
       "data:  Q2 and Q3\n",
       "t = 11.737, df = 499, p-value < 2.2e-16\n",
       "alternative hypothesis: true difference in means is not equal to 0\n",
       "95 percent confidence interval:\n",
       " 0.4928997 0.6911003\n",
       "sample estimates:\n",
       "mean of the differences \n",
       "                  0.592 \n"
      ]
     },
     "metadata": {},
     "output_type": "display_data"
    }
   ],
   "source": [
    "t.test(Q2, Q3, mu=0, alt=\"two.sided\", paired=T, conf.level=0.95)"
   ]
  },
  {
   "cell_type": "code",
   "execution_count": 26,
   "metadata": {},
   "outputs": [
    {
     "data": {
      "text/plain": [
       "\n",
       "\tPaired t-test\n",
       "\n",
       "data:  Q2 and Q4\n",
       "t = 4.3522, df = 499, p-value = 1.636e-05\n",
       "alternative hypothesis: true difference in means is not equal to 0\n",
       "95 percent confidence interval:\n",
       " 0.1053253 0.2786747\n",
       "sample estimates:\n",
       "mean of the differences \n",
       "                  0.192 \n"
      ]
     },
     "metadata": {},
     "output_type": "display_data"
    }
   ],
   "source": [
    "t.test(Q2, Q4, mu=0, alt=\"two.sided\", paired=T, conf.level=0.95)"
   ]
  },
  {
   "cell_type": "code",
   "execution_count": 27,
   "metadata": {},
   "outputs": [
    {
     "data": {
      "text/plain": [
       "\n",
       "\tPaired t-test\n",
       "\n",
       "data:  Q2 and Q5\n",
       "t = 1.8197, df = 499, p-value = 0.06941\n",
       "alternative hypothesis: true difference in means is not equal to 0\n",
       "95 percent confidence interval:\n",
       " -0.006856598  0.178856598\n",
       "sample estimates:\n",
       "mean of the differences \n",
       "                  0.086 \n"
      ]
     },
     "metadata": {},
     "output_type": "display_data"
    }
   ],
   "source": [
    "t.test(Q2, Q5, mu=0, alt=\"two.sided\", paired=T, conf.level=0.95)"
   ]
  },
  {
   "cell_type": "code",
   "execution_count": 28,
   "metadata": {},
   "outputs": [
    {
     "data": {
      "text/plain": [
       "\n",
       "\tPaired t-test\n",
       "\n",
       "data:  Q2 and Q6\n",
       "t = -1.6421, df = 499, p-value = 0.1012\n",
       "alternative hypothesis: true difference in means is not equal to 0\n",
       "95 percent confidence interval:\n",
       " -0.25039874  0.02239874\n",
       "sample estimates:\n",
       "mean of the differences \n",
       "                 -0.114 \n"
      ]
     },
     "metadata": {},
     "output_type": "display_data"
    }
   ],
   "source": [
    "t.test(Q2, Q6, mu=0, alt=\"two.sided\", paired=T, conf.level=0.95)"
   ]
  },
  {
   "cell_type": "code",
   "execution_count": 29,
   "metadata": {},
   "outputs": [
    {
     "data": {
      "text/plain": [
       "\n",
       "\tPaired t-test\n",
       "\n",
       "data:  Q2 and Q7\n",
       "t = -23.892, df = 499, p-value < 2.2e-16\n",
       "alternative hypothesis: true difference in means is not equal to 0\n",
       "95 percent confidence interval:\n",
       " -1.725082 -1.462918\n",
       "sample estimates:\n",
       "mean of the differences \n",
       "                 -1.594 \n"
      ]
     },
     "metadata": {},
     "output_type": "display_data"
    }
   ],
   "source": [
    "t.test(Q2, Q7, mu=0, alt=\"two.sided\", paired=T, conf.level=0.95)"
   ]
  },
  {
   "cell_type": "code",
   "execution_count": 30,
   "metadata": {},
   "outputs": [
    {
     "data": {
      "text/plain": [
       "\n",
       "\tPaired t-test\n",
       "\n",
       "data:  Q2 and Q8\n",
       "t = 2.5652, df = 499, p-value = 0.0106\n",
       "alternative hypothesis: true difference in means is not equal to 0\n",
       "95 percent confidence interval:\n",
       " 0.03698703 0.27901297\n",
       "sample estimates:\n",
       "mean of the differences \n",
       "                  0.158 \n"
      ]
     },
     "metadata": {},
     "output_type": "display_data"
    }
   ],
   "source": [
    "t.test(Q2, Q8, mu=0, alt=\"two.sided\", paired=T, conf.level=0.95)"
   ]
  },
  {
   "cell_type": "code",
   "execution_count": 31,
   "metadata": {},
   "outputs": [
    {
     "data": {
      "text/plain": [
       "\n",
       "\tPaired t-test\n",
       "\n",
       "data:  Q2 and Q9\n",
       "t = 2.9605, df = 499, p-value = 0.003218\n",
       "alternative hypothesis: true difference in means is not equal to 0\n",
       "95 percent confidence interval:\n",
       " 0.05179667 0.25620333\n",
       "sample estimates:\n",
       "mean of the differences \n",
       "                  0.154 \n"
      ]
     },
     "metadata": {},
     "output_type": "display_data"
    }
   ],
   "source": [
    "t.test(Q2, Q9, mu=0, alt=\"two.sided\", paired=T, conf.level=0.95)"
   ]
  },
  {
   "cell_type": "code",
   "execution_count": 32,
   "metadata": {},
   "outputs": [
    {
     "data": {
      "text/plain": [
       "\n",
       "\tPaired t-test\n",
       "\n",
       "data:  Q2 and Q10\n",
       "t = -0.24866, df = 499, p-value = 0.8037\n",
       "alternative hypothesis: true difference in means is not equal to 0\n",
       "95 percent confidence interval:\n",
       " -0.12461876  0.09661876\n",
       "sample estimates:\n",
       "mean of the differences \n",
       "                 -0.014 \n"
      ]
     },
     "metadata": {},
     "output_type": "display_data"
    }
   ],
   "source": [
    "t.test(Q2, Q10, mu=0, alt=\"two.sided\", paired=T, conf.level=0.95)"
   ]
  },
  {
   "cell_type": "code",
   "execution_count": 33,
   "metadata": {},
   "outputs": [
    {
     "data": {
      "text/plain": [
       "\n",
       "\tPaired t-test\n",
       "\n",
       "data:  Q2 and Q11\n",
       "t = 10.258, df = 499, p-value < 2.2e-16\n",
       "alternative hypothesis: true difference in means is not equal to 0\n",
       "95 percent confidence interval:\n",
       " 0.4349572 0.6410428\n",
       "sample estimates:\n",
       "mean of the differences \n",
       "                  0.538 \n"
      ]
     },
     "metadata": {},
     "output_type": "display_data"
    }
   ],
   "source": [
    "t.test(Q2, Q11, mu=0, alt=\"two.sided\", paired=T, conf.level=0.95)"
   ]
  },
  {
   "cell_type": "code",
   "execution_count": 34,
   "metadata": {},
   "outputs": [
    {
     "data": {
      "text/plain": [
       "\n",
       "\tPaired t-test\n",
       "\n",
       "data:  Q2 and Q12\n",
       "t = 10.182, df = 499, p-value < 2.2e-16\n",
       "alternative hypothesis: true difference in means is not equal to 0\n",
       "95 percent confidence interval:\n",
       " 0.4131999 0.6108001\n",
       "sample estimates:\n",
       "mean of the differences \n",
       "                  0.512 \n"
      ]
     },
     "metadata": {},
     "output_type": "display_data"
    }
   ],
   "source": [
    "t.test(Q2, Q12, mu=0, alt=\"two.sided\", paired=T, conf.level=0.95)"
   ]
  },
  {
   "cell_type": "code",
   "execution_count": 35,
   "metadata": {},
   "outputs": [
    {
     "data": {
      "text/plain": [
       "\n",
       "\tPaired t-test\n",
       "\n",
       "data:  Q3 and Q4\n",
       "t = -8.5821, df = 499, p-value < 2.2e-16\n",
       "alternative hypothesis: true difference in means is not equal to 0\n",
       "95 percent confidence interval:\n",
       " -0.4915729 -0.3084271\n",
       "sample estimates:\n",
       "mean of the differences \n",
       "                   -0.4 \n"
      ]
     },
     "metadata": {},
     "output_type": "display_data"
    }
   ],
   "source": [
    "t.test(Q3, Q4, mu=0, alt=\"two.sided\", paired=T, conf.level=0.95)"
   ]
  },
  {
   "cell_type": "code",
   "execution_count": 36,
   "metadata": {},
   "outputs": [
    {
     "data": {
      "text/plain": [
       "\n",
       "\tPaired t-test\n",
       "\n",
       "data:  Q3 and Q5\n",
       "t = -10.208, df = 499, p-value < 2.2e-16\n",
       "alternative hypothesis: true difference in means is not equal to 0\n",
       "95 percent confidence interval:\n",
       " -0.6033848 -0.4086152\n",
       "sample estimates:\n",
       "mean of the differences \n",
       "                 -0.506 \n"
      ]
     },
     "metadata": {},
     "output_type": "display_data"
    }
   ],
   "source": [
    "t.test(Q3, Q5, mu=0, alt=\"two.sided\", paired=T, conf.level=0.95)"
   ]
  },
  {
   "cell_type": "code",
   "execution_count": 37,
   "metadata": {},
   "outputs": [
    {
     "data": {
      "text/plain": [
       "\n",
       "\tPaired t-test\n",
       "\n",
       "data:  Q3 and Q6\n",
       "t = -10.653, df = 499, p-value < 2.2e-16\n",
       "alternative hypothesis: true difference in means is not equal to 0\n",
       "95 percent confidence interval:\n",
       " -0.8362056 -0.5757944\n",
       "sample estimates:\n",
       "mean of the differences \n",
       "                 -0.706 \n"
      ]
     },
     "metadata": {},
     "output_type": "display_data"
    }
   ],
   "source": [
    "t.test(Q3, Q6, mu=0, alt=\"two.sided\", paired=T, conf.level=0.95)"
   ]
  },
  {
   "cell_type": "code",
   "execution_count": 38,
   "metadata": {},
   "outputs": [
    {
     "data": {
      "text/plain": [
       "\n",
       "\tPaired t-test\n",
       "\n",
       "data:  Q3 and Q7\n",
       "t = -32.008, df = 499, p-value < 2.2e-16\n",
       "alternative hypothesis: true difference in means is not equal to 0\n",
       "95 percent confidence interval:\n",
       " -2.32018 -2.05182\n",
       "sample estimates:\n",
       "mean of the differences \n",
       "                 -2.186 \n"
      ]
     },
     "metadata": {},
     "output_type": "display_data"
    }
   ],
   "source": [
    "t.test(Q3, Q7, mu=0, alt=\"two.sided\", paired=T, conf.level=0.95)"
   ]
  },
  {
   "cell_type": "code",
   "execution_count": 39,
   "metadata": {},
   "outputs": [
    {
     "data": {
      "text/plain": [
       "\n",
       "\tPaired t-test\n",
       "\n",
       "data:  Q3 and Q8\n",
       "t = -7.5851, df = 499, p-value = 1.638e-13\n",
       "alternative hypothesis: true difference in means is not equal to 0\n",
       "95 percent confidence interval:\n",
       " -0.5464168 -0.3215832\n",
       "sample estimates:\n",
       "mean of the differences \n",
       "                 -0.434 \n"
      ]
     },
     "metadata": {},
     "output_type": "display_data"
    }
   ],
   "source": [
    "t.test(Q3, Q8, mu=0, alt=\"two.sided\", paired=T, conf.level=0.95)"
   ]
  },
  {
   "cell_type": "code",
   "execution_count": 40,
   "metadata": {},
   "outputs": [
    {
     "data": {
      "text/plain": [
       "\n",
       "\tPaired t-test\n",
       "\n",
       "data:  Q3 and Q9\n",
       "t = -8.3587, df = 499, p-value = 6.35e-16\n",
       "alternative hypothesis: true difference in means is not equal to 0\n",
       "95 percent confidence interval:\n",
       " -0.5409526 -0.3350474\n",
       "sample estimates:\n",
       "mean of the differences \n",
       "                 -0.438 \n"
      ]
     },
     "metadata": {},
     "output_type": "display_data"
    }
   ],
   "source": [
    "t.test(Q3, Q9, mu=0, alt=\"two.sided\", paired=T, conf.level=0.95)"
   ]
  },
  {
   "cell_type": "code",
   "execution_count": 41,
   "metadata": {},
   "outputs": [
    {
     "data": {
      "text/plain": [
       "\n",
       "\tPaired t-test\n",
       "\n",
       "data:  Q3 and Q10\n",
       "t = -9.8867, df = 499, p-value < 2.2e-16\n",
       "alternative hypothesis: true difference in means is not equal to 0\n",
       "95 percent confidence interval:\n",
       " -0.7264275 -0.4855725\n",
       "sample estimates:\n",
       "mean of the differences \n",
       "                 -0.606 \n"
      ]
     },
     "metadata": {},
     "output_type": "display_data"
    }
   ],
   "source": [
    "t.test(Q3, Q10, mu=0, alt=\"two.sided\", paired=T, conf.level=0.95)"
   ]
  },
  {
   "cell_type": "code",
   "execution_count": 42,
   "metadata": {},
   "outputs": [
    {
     "data": {
      "text/plain": [
       "\n",
       "\tPaired t-test\n",
       "\n",
       "data:  Q3 and Q11\n",
       "t = -1, df = 499, p-value = 0.3178\n",
       "alternative hypothesis: true difference in means is not equal to 0\n",
       "95 percent confidence interval:\n",
       " -0.16009539  0.05209539\n",
       "sample estimates:\n",
       "mean of the differences \n",
       "                 -0.054 \n"
      ]
     },
     "metadata": {},
     "output_type": "display_data"
    }
   ],
   "source": [
    "t.test(Q3, Q11, mu=0, alt=\"two.sided\", paired=T, conf.level=0.95)"
   ]
  },
  {
   "cell_type": "code",
   "execution_count": 43,
   "metadata": {},
   "outputs": [
    {
     "data": {
      "text/plain": [
       "\n",
       "\tPaired t-test\n",
       "\n",
       "data:  Q3 and Q12\n",
       "t = -1.6638, df = 499, p-value = 0.09677\n",
       "alternative hypothesis: true difference in means is not equal to 0\n",
       "95 percent confidence interval:\n",
       " -0.17446699  0.01446699\n",
       "sample estimates:\n",
       "mean of the differences \n",
       "                  -0.08 \n"
      ]
     },
     "metadata": {},
     "output_type": "display_data"
    }
   ],
   "source": [
    "t.test(Q3, Q12, mu=0, alt=\"two.sided\", paired=T, conf.level=0.95)"
   ]
  },
  {
   "cell_type": "code",
   "execution_count": 44,
   "metadata": {},
   "outputs": [
    {
     "data": {
      "text/plain": [
       "\n",
       "\tPaired t-test\n",
       "\n",
       "data:  Q4 and Q5\n",
       "t = -2.849, df = 499, p-value = 0.004567\n",
       "alternative hypothesis: true difference in means is not equal to 0\n",
       "95 percent confidence interval:\n",
       " -0.17909999 -0.03290001\n",
       "sample estimates:\n",
       "mean of the differences \n",
       "                 -0.106 \n"
      ]
     },
     "metadata": {},
     "output_type": "display_data"
    }
   ],
   "source": [
    "t.test(Q4, Q5, mu=0, alt=\"two.sided\", paired=T, conf.level=0.95)"
   ]
  },
  {
   "cell_type": "code",
   "execution_count": 45,
   "metadata": {},
   "outputs": [
    {
     "data": {
      "text/plain": [
       "\n",
       "\tPaired t-test\n",
       "\n",
       "data:  Q4 and Q6\n",
       "t = -4.6335, df = 499, p-value = 4.595e-06\n",
       "alternative hypothesis: true difference in means is not equal to 0\n",
       "95 percent confidence interval:\n",
       " -0.4357532 -0.1762468\n",
       "sample estimates:\n",
       "mean of the differences \n",
       "                 -0.306 \n"
      ]
     },
     "metadata": {},
     "output_type": "display_data"
    }
   ],
   "source": [
    "t.test(Q4, Q6, mu=0, alt=\"two.sided\", paired=T, conf.level=0.95)"
   ]
  },
  {
   "cell_type": "code",
   "execution_count": 46,
   "metadata": {},
   "outputs": [
    {
     "data": {
      "text/plain": [
       "\n",
       "\tPaired t-test\n",
       "\n",
       "data:  Q4 and Q7\n",
       "t = -26.775, df = 499, p-value < 2.2e-16\n",
       "alternative hypothesis: true difference in means is not equal to 0\n",
       "95 percent confidence interval:\n",
       " -1.917054 -1.654946\n",
       "sample estimates:\n",
       "mean of the differences \n",
       "                 -1.786 \n"
      ]
     },
     "metadata": {},
     "output_type": "display_data"
    }
   ],
   "source": [
    "t.test(Q4, Q7, mu=0, alt=\"two.sided\", paired=T, conf.level=0.95)"
   ]
  },
  {
   "cell_type": "code",
   "execution_count": 47,
   "metadata": {},
   "outputs": [
    {
     "data": {
      "text/plain": [
       "\n",
       "\tPaired t-test\n",
       "\n",
       "data:  Q4 and Q8\n",
       "t = -0.56039, df = 499, p-value = 0.5755\n",
       "alternative hypothesis: true difference in means is not equal to 0\n",
       "95 percent confidence interval:\n",
       " -0.15320339  0.08520339\n",
       "sample estimates:\n",
       "mean of the differences \n",
       "                 -0.034 \n"
      ]
     },
     "metadata": {},
     "output_type": "display_data"
    }
   ],
   "source": [
    "t.test(Q4, Q8, mu=0, alt=\"two.sided\", paired=T, conf.level=0.95)"
   ]
  },
  {
   "cell_type": "code",
   "execution_count": 48,
   "metadata": {},
   "outputs": [
    {
     "data": {
      "text/plain": [
       "\n",
       "\tPaired t-test\n",
       "\n",
       "data:  Q4 and Q9\n",
       "t = -0.76212, df = 499, p-value = 0.4463\n",
       "alternative hypothesis: true difference in means is not equal to 0\n",
       "95 percent confidence interval:\n",
       " -0.13596268  0.05996268\n",
       "sample estimates:\n",
       "mean of the differences \n",
       "                 -0.038 \n"
      ]
     },
     "metadata": {},
     "output_type": "display_data"
    }
   ],
   "source": [
    "t.test(Q4, Q9, mu=0, alt=\"two.sided\", paired=T, conf.level=0.95)"
   ]
  },
  {
   "cell_type": "code",
   "execution_count": 49,
   "metadata": {},
   "outputs": [
    {
     "data": {
      "text/plain": [
       "\n",
       "\tPaired t-test\n",
       "\n",
       "data:  Q4 and Q10\n",
       "t = -3.6294, df = 499, p-value = 0.0003134\n",
       "alternative hypothesis: true difference in means is not equal to 0\n",
       "95 percent confidence interval:\n",
       " -0.31751585 -0.09448415\n",
       "sample estimates:\n",
       "mean of the differences \n",
       "                 -0.206 \n"
      ]
     },
     "metadata": {},
     "output_type": "display_data"
    }
   ],
   "source": [
    "t.test(Q4, Q10, mu=0, alt=\"two.sided\", paired=T, conf.level=0.95)"
   ]
  },
  {
   "cell_type": "code",
   "execution_count": 50,
   "metadata": {},
   "outputs": [
    {
     "data": {
      "text/plain": [
       "\n",
       "\tPaired t-test\n",
       "\n",
       "data:  Q4 and Q11\n",
       "t = 6.5084, df = 499, p-value = 1.852e-10\n",
       "alternative hypothesis: true difference in means is not equal to 0\n",
       "95 percent confidence interval:\n",
       " 0.2415506 0.4504494\n",
       "sample estimates:\n",
       "mean of the differences \n",
       "                  0.346 \n"
      ]
     },
     "metadata": {},
     "output_type": "display_data"
    }
   ],
   "source": [
    "t.test(Q4, Q11, mu=0, alt=\"two.sided\", paired=T, conf.level=0.95)"
   ]
  },
  {
   "cell_type": "code",
   "execution_count": 51,
   "metadata": {},
   "outputs": [
    {
     "data": {
      "text/plain": [
       "\n",
       "\tPaired t-test\n",
       "\n",
       "data:  Q4 and Q12\n",
       "t = 6.5984, df = 499, p-value = 1.063e-10\n",
       "alternative hypothesis: true difference in means is not equal to 0\n",
       "95 percent confidence interval:\n",
       " 0.2247176 0.4152824\n",
       "sample estimates:\n",
       "mean of the differences \n",
       "                   0.32 \n"
      ]
     },
     "metadata": {},
     "output_type": "display_data"
    }
   ],
   "source": [
    "t.test(Q4, Q12, mu=0, alt=\"two.sided\", paired=T, conf.level=0.95)"
   ]
  },
  {
   "cell_type": "code",
   "execution_count": 52,
   "metadata": {},
   "outputs": [
    {
     "data": {
      "text/plain": [
       "\n",
       "\tPaired t-test\n",
       "\n",
       "data:  Q5 and Q6\n",
       "t = -3.0094, df = 499, p-value = 0.00275\n",
       "alternative hypothesis: true difference in means is not equal to 0\n",
       "95 percent confidence interval:\n",
       " -0.33057447 -0.06942553\n",
       "sample estimates:\n",
       "mean of the differences \n",
       "                   -0.2 \n"
      ]
     },
     "metadata": {},
     "output_type": "display_data"
    }
   ],
   "source": [
    "t.test(Q5, Q6, mu=0, alt=\"two.sided\", paired=T, conf.level=0.95)"
   ]
  },
  {
   "cell_type": "code",
   "execution_count": 53,
   "metadata": {},
   "outputs": [
    {
     "data": {
      "text/plain": [
       "\n",
       "\tPaired t-test\n",
       "\n",
       "data:  Q5 and Q7\n",
       "t = -24.63, df = 499, p-value < 2.2e-16\n",
       "alternative hypothesis: true difference in means is not equal to 0\n",
       "95 percent confidence interval:\n",
       " -1.814013 -1.545987\n",
       "sample estimates:\n",
       "mean of the differences \n",
       "                  -1.68 \n"
      ]
     },
     "metadata": {},
     "output_type": "display_data"
    }
   ],
   "source": [
    "t.test(Q5, Q7, mu=0, alt=\"two.sided\", paired=T, conf.level=0.95)"
   ]
  },
  {
   "cell_type": "code",
   "execution_count": 54,
   "metadata": {},
   "outputs": [
    {
     "data": {
      "text/plain": [
       "\n",
       "\tPaired t-test\n",
       "\n",
       "data:  Q5 and Q8\n",
       "t = 1.181, df = 499, p-value = 0.2382\n",
       "alternative hypothesis: true difference in means is not equal to 0\n",
       "95 percent confidence interval:\n",
       " -0.04778512  0.19178512\n",
       "sample estimates:\n",
       "mean of the differences \n",
       "                  0.072 \n"
      ]
     },
     "metadata": {},
     "output_type": "display_data"
    }
   ],
   "source": [
    "t.test(Q5, Q8, mu=0, alt=\"two.sided\", paired=T, conf.level=0.95)"
   ]
  },
  {
   "cell_type": "code",
   "execution_count": 55,
   "metadata": {},
   "outputs": [
    {
     "data": {
      "text/plain": [
       "\n",
       "\tPaired t-test\n",
       "\n",
       "data:  Q5 and Q9\n",
       "t = 1.3451, df = 499, p-value = 0.1792\n",
       "alternative hypothesis: true difference in means is not equal to 0\n",
       "95 percent confidence interval:\n",
       " -0.03132798  0.16732798\n",
       "sample estimates:\n",
       "mean of the differences \n",
       "                  0.068 \n"
      ]
     },
     "metadata": {},
     "output_type": "display_data"
    }
   ],
   "source": [
    "t.test(Q5, Q9, mu=0, alt=\"two.sided\", paired=T, conf.level=0.95)"
   ]
  },
  {
   "cell_type": "code",
   "execution_count": 56,
   "metadata": {},
   "outputs": [
    {
     "data": {
      "text/plain": [
       "\n",
       "\tPaired t-test\n",
       "\n",
       "data:  Q5 and Q10\n",
       "t = -1.6848, df = 499, p-value = 0.09266\n",
       "alternative hypothesis: true difference in means is not equal to 0\n",
       "95 percent confidence interval:\n",
       " -0.21661701  0.01661701\n",
       "sample estimates:\n",
       "mean of the differences \n",
       "                   -0.1 \n"
      ]
     },
     "metadata": {},
     "output_type": "display_data"
    }
   ],
   "source": [
    "t.test(Q5, Q10, mu=0, alt=\"two.sided\", paired=T, conf.level=0.95)"
   ]
  },
  {
   "cell_type": "code",
   "execution_count": 57,
   "metadata": {},
   "outputs": [
    {
     "data": {
      "text/plain": [
       "\n",
       "\tPaired t-test\n",
       "\n",
       "data:  Q5 and Q11\n",
       "t = 7.8186, df = 499, p-value = 3.197e-14\n",
       "alternative hypothesis: true difference in means is not equal to 0\n",
       "95 percent confidence interval:\n",
       " 0.3384176 0.5655824\n",
       "sample estimates:\n",
       "mean of the differences \n",
       "                  0.452 \n"
      ]
     },
     "metadata": {},
     "output_type": "display_data"
    }
   ],
   "source": [
    "t.test(Q5, Q11, mu=0, alt=\"two.sided\", paired=T, conf.level=0.95)"
   ]
  },
  {
   "cell_type": "code",
   "execution_count": 58,
   "metadata": {},
   "outputs": [
    {
     "data": {
      "text/plain": [
       "\n",
       "\tPaired t-test\n",
       "\n",
       "data:  Q5 and Q12\n",
       "t = 8.0296, df = 499, p-value = 7.077e-15\n",
       "alternative hypothesis: true difference in means is not equal to 0\n",
       "95 percent confidence interval:\n",
       " 0.3217642 0.5302358\n",
       "sample estimates:\n",
       "mean of the differences \n",
       "                  0.426 \n"
      ]
     },
     "metadata": {},
     "output_type": "display_data"
    }
   ],
   "source": [
    "t.test(Q5, Q12, mu=0, alt=\"two.sided\", paired=T, conf.level=0.95)"
   ]
  },
  {
   "cell_type": "code",
   "execution_count": 61,
   "metadata": {},
   "outputs": [
    {
     "data": {
      "text/plain": [
       "\n",
       "\tPaired t-test\n",
       "\n",
       "data:  Q6 and Q7\n",
       "t = -20.576, df = 499, p-value < 2.2e-16\n",
       "alternative hypothesis: true difference in means is not equal to 0\n",
       "95 percent confidence interval:\n",
       " -1.621318 -1.338682\n",
       "sample estimates:\n",
       "mean of the differences \n",
       "                  -1.48 \n"
      ]
     },
     "metadata": {},
     "output_type": "display_data"
    }
   ],
   "source": [
    "t.test(Q6, Q7, mu=0, alt=\"two.sided\", paired=T, conf.level=0.95)"
   ]
  },
  {
   "cell_type": "code",
   "execution_count": 62,
   "metadata": {},
   "outputs": [
    {
     "data": {
      "text/plain": [
       "\n",
       "\tPaired t-test\n",
       "\n",
       "data:  Q6 and Q8\n",
       "t = 4.0872, df = 499, p-value = 5.088e-05\n",
       "alternative hypothesis: true difference in means is not equal to 0\n",
       "95 percent confidence interval:\n",
       " 0.1412474 0.4027526\n",
       "sample estimates:\n",
       "mean of the differences \n",
       "                  0.272 \n"
      ]
     },
     "metadata": {},
     "output_type": "display_data"
    }
   ],
   "source": [
    "t.test(Q6, Q8, mu=0, alt=\"two.sided\", paired=T, conf.level=0.95)"
   ]
  },
  {
   "cell_type": "code",
   "execution_count": 63,
   "metadata": {},
   "outputs": [
    {
     "data": {
      "text/plain": [
       "\n",
       "\tPaired t-test\n",
       "\n",
       "data:  Q6 and Q9\n",
       "t = 4.0582, df = 499, p-value = 5.738e-05\n",
       "alternative hypothesis: true difference in means is not equal to 0\n",
       "95 percent confidence interval:\n",
       " 0.1382524 0.3977476\n",
       "sample estimates:\n",
       "mean of the differences \n",
       "                  0.268 \n"
      ]
     },
     "metadata": {},
     "output_type": "display_data"
    }
   ],
   "source": [
    "t.test(Q6, Q9, mu=0, alt=\"two.sided\", paired=T, conf.level=0.95)"
   ]
  },
  {
   "cell_type": "code",
   "execution_count": 64,
   "metadata": {},
   "outputs": [
    {
     "data": {
      "text/plain": [
       "\n",
       "\tPaired t-test\n",
       "\n",
       "data:  Q6 and Q10\n",
       "t = 1.4295, df = 499, p-value = 0.1535\n",
       "alternative hypothesis: true difference in means is not equal to 0\n",
       "95 percent confidence interval:\n",
       " -0.03744385  0.23744385\n",
       "sample estimates:\n",
       "mean of the differences \n",
       "                    0.1 \n"
      ]
     },
     "metadata": {},
     "output_type": "display_data"
    }
   ],
   "source": [
    "t.test(Q6, Q10, mu=0, alt=\"two.sided\", paired=T, conf.level=0.95)"
   ]
  },
  {
   "cell_type": "code",
   "execution_count": 65,
   "metadata": {},
   "outputs": [
    {
     "data": {
      "text/plain": [
       "\n",
       "\tPaired t-test\n",
       "\n",
       "data:  Q6 and Q11\n",
       "t = 9.9033, df = 499, p-value < 2.2e-16\n",
       "alternative hypothesis: true difference in means is not equal to 0\n",
       "95 percent confidence interval:\n",
       " 0.5226489 0.7813511\n",
       "sample estimates:\n",
       "mean of the differences \n",
       "                  0.652 \n"
      ]
     },
     "metadata": {},
     "output_type": "display_data"
    }
   ],
   "source": [
    "t.test(Q6, Q11, mu=0, alt=\"two.sided\", paired=T, conf.level=0.95)"
   ]
  },
  {
   "cell_type": "code",
   "execution_count": 66,
   "metadata": {},
   "outputs": [
    {
     "data": {
      "text/plain": [
       "\n",
       "\tPaired t-test\n",
       "\n",
       "data:  Q6 and Q12\n",
       "t = 10.097, df = 499, p-value < 2.2e-16\n",
       "alternative hypothesis: true difference in means is not equal to 0\n",
       "95 percent confidence interval:\n",
       " 0.5041878 0.7478122\n",
       "sample estimates:\n",
       "mean of the differences \n",
       "                  0.626 \n"
      ]
     },
     "metadata": {},
     "output_type": "display_data"
    }
   ],
   "source": [
    "t.test(Q6, Q12, mu=0, alt=\"two.sided\", paired=T, conf.level=0.95)"
   ]
  },
  {
   "cell_type": "code",
   "execution_count": 67,
   "metadata": {},
   "outputs": [
    {
     "data": {
      "text/plain": [
       "\n",
       "\tPaired t-test\n",
       "\n",
       "data:  Q7 and Q8\n",
       "t = 24.564, df = 499, p-value < 2.2e-16\n",
       "alternative hypothesis: true difference in means is not equal to 0\n",
       "95 percent confidence interval:\n",
       " 1.611867 1.892133\n",
       "sample estimates:\n",
       "mean of the differences \n",
       "                  1.752 \n"
      ]
     },
     "metadata": {},
     "output_type": "display_data"
    }
   ],
   "source": [
    "t.test(Q7, Q8, mu=0, alt=\"two.sided\", paired=T, conf.level=0.95)"
   ]
  },
  {
   "cell_type": "code",
   "execution_count": 68,
   "metadata": {},
   "outputs": [
    {
     "data": {
      "text/plain": [
       "\n",
       "\tPaired t-test\n",
       "\n",
       "data:  Q7 and Q9\n",
       "t = 25.287, df = 499, p-value < 2.2e-16\n",
       "alternative hypothesis: true difference in means is not equal to 0\n",
       "95 percent confidence interval:\n",
       " 1.612184 1.883816\n",
       "sample estimates:\n",
       "mean of the differences \n",
       "                  1.748 \n"
      ]
     },
     "metadata": {},
     "output_type": "display_data"
    }
   ],
   "source": [
    "t.test(Q7, Q9, mu=0, alt=\"two.sided\", paired=T, conf.level=0.95)"
   ]
  },
  {
   "cell_type": "code",
   "execution_count": 69,
   "metadata": {},
   "outputs": [
    {
     "data": {
      "text/plain": [
       "\n",
       "\tPaired t-test\n",
       "\n",
       "data:  Q7 and Q10\n",
       "t = 22.36, df = 499, p-value < 2.2e-16\n",
       "alternative hypothesis: true difference in means is not equal to 0\n",
       "95 percent confidence interval:\n",
       " 1.441167 1.718833\n",
       "sample estimates:\n",
       "mean of the differences \n",
       "                   1.58 \n"
      ]
     },
     "metadata": {},
     "output_type": "display_data"
    }
   ],
   "source": [
    "t.test(Q7, Q10, mu=0, alt=\"two.sided\", paired=T, conf.level=0.95)"
   ]
  },
  {
   "cell_type": "code",
   "execution_count": 70,
   "metadata": {},
   "outputs": [
    {
     "data": {
      "text/plain": [
       "\n",
       "\tPaired t-test\n",
       "\n",
       "data:  Q7 and Q11\n",
       "t = 30.324, df = 499, p-value < 2.2e-16\n",
       "alternative hypothesis: true difference in means is not equal to 0\n",
       "95 percent confidence interval:\n",
       " 1.993866 2.270134\n",
       "sample estimates:\n",
       "mean of the differences \n",
       "                  2.132 \n"
      ]
     },
     "metadata": {},
     "output_type": "display_data"
    }
   ],
   "source": [
    "t.test(Q7, Q11, mu=0, alt=\"two.sided\", paired=T, conf.level=0.95)"
   ]
  },
  {
   "cell_type": "code",
   "execution_count": 71,
   "metadata": {},
   "outputs": [
    {
     "data": {
      "text/plain": [
       "\n",
       "\tPaired t-test\n",
       "\n",
       "data:  Q7 and Q12\n",
       "t = 30.249, df = 499, p-value < 2.2e-16\n",
       "alternative hypothesis: true difference in means is not equal to 0\n",
       "95 percent confidence interval:\n",
       " 1.969212 2.242788\n",
       "sample estimates:\n",
       "mean of the differences \n",
       "                  2.106 \n"
      ]
     },
     "metadata": {},
     "output_type": "display_data"
    }
   ],
   "source": [
    "t.test(Q7, Q12, mu=0, alt=\"two.sided\", paired=T, conf.level=0.95)"
   ]
  },
  {
   "cell_type": "code",
   "execution_count": 72,
   "metadata": {},
   "outputs": [
    {
     "data": {
      "text/plain": [
       "\n",
       "\tPaired t-test\n",
       "\n",
       "data:  Q8 and Q9\n",
       "t = -0.07238, df = 499, p-value = 0.9423\n",
       "alternative hypothesis: true difference in means is not equal to 0\n",
       "95 percent confidence interval:\n",
       " -0.1125782  0.1045782\n",
       "sample estimates:\n",
       "mean of the differences \n",
       "                 -0.004 \n"
      ]
     },
     "metadata": {},
     "output_type": "display_data"
    }
   ],
   "source": [
    "t.test(Q8, Q9, mu=0, alt=\"two.sided\", paired=T, conf.level=0.95)"
   ]
  },
  {
   "cell_type": "code",
   "execution_count": 73,
   "metadata": {},
   "outputs": [
    {
     "data": {
      "text/plain": [
       "\n",
       "\tPaired t-test\n",
       "\n",
       "data:  Q8 and Q10\n",
       "t = -2.7399, df = 499, p-value = 0.006365\n",
       "alternative hypothesis: true difference in means is not equal to 0\n",
       "95 percent confidence interval:\n",
       " -0.29533609 -0.04866391\n",
       "sample estimates:\n",
       "mean of the differences \n",
       "                 -0.172 \n"
      ]
     },
     "metadata": {},
     "output_type": "display_data"
    }
   ],
   "source": [
    "t.test(Q8, Q10, mu=0, alt=\"two.sided\", paired=T, conf.level=0.95)"
   ]
  },
  {
   "cell_type": "code",
   "execution_count": 74,
   "metadata": {},
   "outputs": [
    {
     "data": {
      "text/plain": [
       "\n",
       "\tPaired t-test\n",
       "\n",
       "data:  Q8 and Q11\n",
       "t = 6.356, df = 499, p-value = 4.676e-10\n",
       "alternative hypothesis: true difference in means is not equal to 0\n",
       "95 percent confidence interval:\n",
       " 0.262537 0.497463\n",
       "sample estimates:\n",
       "mean of the differences \n",
       "                   0.38 \n"
      ]
     },
     "metadata": {},
     "output_type": "display_data"
    }
   ],
   "source": [
    "t.test(Q8, Q11, mu=0, alt=\"two.sided\", paired=T, conf.level=0.95)"
   ]
  },
  {
   "cell_type": "code",
   "execution_count": 75,
   "metadata": {},
   "outputs": [
    {
     "data": {
      "text/plain": [
       "\n",
       "\tPaired t-test\n",
       "\n",
       "data:  Q8 and Q12\n",
       "t = 6.6626, df = 499, p-value = 7.127e-11\n",
       "alternative hypothesis: true difference in means is not equal to 0\n",
       "95 percent confidence interval:\n",
       " 0.2496099 0.4583901\n",
       "sample estimates:\n",
       "mean of the differences \n",
       "                  0.354 \n"
      ]
     },
     "metadata": {},
     "output_type": "display_data"
    }
   ],
   "source": [
    "t.test(Q8, Q12, mu=0, alt=\"two.sided\", paired=T, conf.level=0.95)"
   ]
  },
  {
   "cell_type": "code",
   "execution_count": 76,
   "metadata": {},
   "outputs": [
    {
     "data": {
      "text/plain": [
       "\n",
       "\tPaired t-test\n",
       "\n",
       "data:  Q9 and Q10\n",
       "t = -3.8307, df = 499, p-value = 0.0001441\n",
       "alternative hypothesis: true difference in means is not equal to 0\n",
       "95 percent confidence interval:\n",
       " -0.25416629 -0.08183371\n",
       "sample estimates:\n",
       "mean of the differences \n",
       "                 -0.168 \n"
      ]
     },
     "metadata": {},
     "output_type": "display_data"
    }
   ],
   "source": [
    "t.test(Q9, Q10, mu=0, alt=\"two.sided\", paired=T, conf.level=0.95)"
   ]
  },
  {
   "cell_type": "code",
   "execution_count": 77,
   "metadata": {},
   "outputs": [
    {
     "data": {
      "text/plain": [
       "\n",
       "\tPaired t-test\n",
       "\n",
       "data:  Q9 and Q11\n",
       "t = 7.3325, df = 499, p-value = 9.185e-13\n",
       "alternative hypothesis: true difference in means is not equal to 0\n",
       "95 percent confidence interval:\n",
       " 0.2811079 0.4868921\n",
       "sample estimates:\n",
       "mean of the differences \n",
       "                  0.384 \n"
      ]
     },
     "metadata": {},
     "output_type": "display_data"
    }
   ],
   "source": [
    "t.test(Q9, Q11, mu=0, alt=\"two.sided\", paired=T, conf.level=0.95)"
   ]
  },
  {
   "cell_type": "code",
   "execution_count": 78,
   "metadata": {},
   "outputs": [
    {
     "data": {
      "text/plain": [
       "\n",
       "\tPaired t-test\n",
       "\n",
       "data:  Q9 and Q12\n",
       "t = 8.2229, df = 499, p-value = 1.732e-15\n",
       "alternative hypothesis: true difference in means is not equal to 0\n",
       "95 percent confidence interval:\n",
       " 0.2724617 0.4435383\n",
       "sample estimates:\n",
       "mean of the differences \n",
       "                  0.358 \n"
      ]
     },
     "metadata": {},
     "output_type": "display_data"
    }
   ],
   "source": [
    "t.test(Q9, Q12, mu=0, alt=\"two.sided\", paired=T, conf.level=0.95)"
   ]
  },
  {
   "cell_type": "code",
   "execution_count": 79,
   "metadata": {},
   "outputs": [
    {
     "data": {
      "text/plain": [
       "\n",
       "\tPaired t-test\n",
       "\n",
       "data:  Q10 and Q11\n",
       "t = 11.413, df = 499, p-value < 2.2e-16\n",
       "alternative hypothesis: true difference in means is not equal to 0\n",
       "95 percent confidence interval:\n",
       " 0.4569739 0.6470261\n",
       "sample estimates:\n",
       "mean of the differences \n",
       "                  0.552 \n"
      ]
     },
     "metadata": {},
     "output_type": "display_data"
    }
   ],
   "source": [
    "t.test(Q10, Q11, mu=0, alt=\"two.sided\", paired=T, conf.level=0.95)"
   ]
  },
  {
   "cell_type": "code",
   "execution_count": 80,
   "metadata": {},
   "outputs": [
    {
     "data": {
      "text/plain": [
       "\n",
       "\tPaired t-test\n",
       "\n",
       "data:  Q10 and Q12\n",
       "t = 10.792, df = 499, p-value < 2.2e-16\n",
       "alternative hypothesis: true difference in means is not equal to 0\n",
       "95 percent confidence interval:\n",
       " 0.4302429 0.6217571\n",
       "sample estimates:\n",
       "mean of the differences \n",
       "                  0.526 \n"
      ]
     },
     "metadata": {},
     "output_type": "display_data"
    }
   ],
   "source": [
    "t.test(Q10, Q12, mu=0, alt=\"two.sided\", paired=T, conf.level=0.95)"
   ]
  },
  {
   "cell_type": "code",
   "execution_count": 81,
   "metadata": {},
   "outputs": [
    {
     "data": {
      "text/plain": [
       "\n",
       "\tPaired t-test\n",
       "\n",
       "data:  Q11 and Q12\n",
       "t = -0.66739, df = 499, p-value = 0.5048\n",
       "alternative hypothesis: true difference in means is not equal to 0\n",
       "95 percent confidence interval:\n",
       " -0.10254086  0.05054086\n",
       "sample estimates:\n",
       "mean of the differences \n",
       "                 -0.026 \n"
      ]
     },
     "metadata": {},
     "output_type": "display_data"
    }
   ],
   "source": [
    "t.test(Q11, Q12, mu=0, alt=\"two.sided\", paired=T, conf.level=0.95)"
   ]
  },
  {
   "cell_type": "markdown",
   "metadata": {},
   "source": [
    "# Principal Component Analysis"
   ]
  },
  {
   "cell_type": "code",
   "execution_count": 82,
   "metadata": {},
   "outputs": [
    {
     "data": {
      "text/html": [
       "<table>\n",
       "<thead><tr><th scope=col>Q1</th><th scope=col>Q2</th><th scope=col>Q3</th><th scope=col>Q4</th><th scope=col>Q5</th><th scope=col>Q6</th><th scope=col>Q7</th><th scope=col>Q8</th><th scope=col>Q9</th><th scope=col>Q10</th><th scope=col>Q11</th><th scope=col>Q12</th></tr></thead>\n",
       "<tbody>\n",
       "\t<tr><td>3</td><td>2</td><td>2</td><td>1</td><td>1</td><td>3</td><td>5</td><td>1</td><td>1</td><td>1</td><td>1</td><td>1</td></tr>\n",
       "\t<tr><td>1</td><td>2</td><td>2</td><td>1</td><td>1</td><td>3</td><td>5</td><td>1</td><td>1</td><td>1</td><td>1</td><td>1</td></tr>\n",
       "\t<tr><td>1</td><td>2</td><td>1</td><td>3</td><td>2</td><td>1</td><td>4</td><td>4</td><td>3</td><td>3</td><td>1</td><td>1</td></tr>\n",
       "\t<tr><td>4</td><td>2</td><td>1</td><td>2</td><td>2</td><td>1</td><td>4</td><td>1</td><td>1</td><td>3</td><td>1</td><td>1</td></tr>\n",
       "\t<tr><td>3</td><td>2</td><td>1</td><td>1</td><td>1</td><td>1</td><td>1</td><td>1</td><td>1</td><td>1</td><td>1</td><td>1</td></tr>\n",
       "\t<tr><td>1</td><td>2</td><td>2</td><td>2</td><td>4</td><td>2</td><td>5</td><td>4</td><td>3</td><td>1</td><td>1</td><td>1</td></tr>\n",
       "\t<tr><td>1</td><td>4</td><td>2</td><td>3</td><td>4</td><td>2</td><td>4</td><td>1</td><td>2</td><td>2</td><td>1</td><td>1</td></tr>\n",
       "\t<tr><td>1</td><td>1</td><td>1</td><td>2</td><td>1</td><td>1</td><td>1</td><td>1</td><td>1</td><td>1</td><td>1</td><td>1</td></tr>\n",
       "\t<tr><td>4</td><td>2</td><td>3</td><td>2</td><td>3</td><td>1</td><td>2</td><td>1</td><td>3</td><td>3</td><td>1</td><td>3</td></tr>\n",
       "\t<tr><td>1</td><td>4</td><td>1</td><td>2</td><td>1</td><td>3</td><td>4</td><td>1</td><td>1</td><td>3</td><td>3</td><td>2</td></tr>\n",
       "\t<tr><td>3</td><td>3</td><td>1</td><td>4</td><td>4</td><td>1</td><td>4</td><td>4</td><td>3</td><td>3</td><td>2</td><td>2</td></tr>\n",
       "\t<tr><td>4</td><td>2</td><td>1</td><td>1</td><td>2</td><td>2</td><td>5</td><td>1</td><td>3</td><td>3</td><td>1</td><td>1</td></tr>\n",
       "\t<tr><td>1</td><td>2</td><td>1</td><td>1</td><td>1</td><td>2</td><td>4</td><td>4</td><td>1</td><td>2</td><td>1</td><td>1</td></tr>\n",
       "\t<tr><td>1</td><td>1</td><td>1</td><td>1</td><td>1</td><td>3</td><td>4</td><td>1</td><td>1</td><td>1</td><td>1</td><td>1</td></tr>\n",
       "\t<tr><td>4</td><td>4</td><td>1</td><td>1</td><td>4</td><td>4</td><td>4</td><td>5</td><td>1</td><td>4</td><td>4</td><td>4</td></tr>\n",
       "\t<tr><td>3</td><td>2</td><td>1</td><td>2</td><td>2</td><td>5</td><td>5</td><td>4</td><td>4</td><td>4</td><td>1</td><td>3</td></tr>\n",
       "\t<tr><td>1</td><td>2</td><td>1</td><td>2</td><td>2</td><td>4</td><td>4</td><td>1</td><td>1</td><td>1</td><td>1</td><td>1</td></tr>\n",
       "\t<tr><td>1</td><td>1</td><td>1</td><td>2</td><td>2</td><td>5</td><td>4</td><td>1</td><td>1</td><td>1</td><td>1</td><td>1</td></tr>\n",
       "\t<tr><td>3</td><td>1</td><td>1</td><td>1</td><td>1</td><td>3</td><td>3</td><td>4</td><td>1</td><td>4</td><td>4</td><td>3</td></tr>\n",
       "\t<tr><td>3</td><td>1</td><td>1</td><td>1</td><td>1</td><td>3</td><td>3</td><td>4</td><td>1</td><td>4</td><td>4</td><td>3</td></tr>\n",
       "\t<tr><td>1</td><td>2</td><td>2</td><td>3</td><td>2</td><td>3</td><td>4</td><td>1</td><td>3</td><td>4</td><td>3</td><td>1</td></tr>\n",
       "\t<tr><td>1</td><td>2</td><td>1</td><td>2</td><td>2</td><td>3</td><td>4</td><td>1</td><td>1</td><td>4</td><td>1</td><td>1</td></tr>\n",
       "\t<tr><td>1</td><td>2</td><td>4</td><td>2</td><td>3</td><td>3</td><td>5</td><td>5</td><td>3</td><td>3</td><td>1</td><td>1</td></tr>\n",
       "\t<tr><td>4</td><td>4</td><td>5</td><td>4</td><td>4</td><td>2</td><td>5</td><td>5</td><td>3</td><td>4</td><td>2</td><td>3</td></tr>\n",
       "\t<tr><td>1</td><td>1</td><td>1</td><td>1</td><td>1</td><td>1</td><td>5</td><td>1</td><td>1</td><td>1</td><td>1</td><td>1</td></tr>\n",
       "\t<tr><td>3</td><td>3</td><td>1</td><td>2</td><td>2</td><td>1</td><td>4</td><td>1</td><td>1</td><td>1</td><td>1</td><td>1</td></tr>\n",
       "\t<tr><td>3</td><td>3</td><td>1</td><td>2</td><td>2</td><td>4</td><td>3</td><td>4</td><td>2</td><td>3</td><td>4</td><td>3</td></tr>\n",
       "\t<tr><td>3</td><td>2</td><td>3</td><td>2</td><td>2</td><td>4</td><td>4</td><td>4</td><td>3</td><td>4</td><td>1</td><td>3</td></tr>\n",
       "\t<tr><td>3</td><td>2</td><td>3</td><td>2</td><td>2</td><td>4</td><td>4</td><td>4</td><td>3</td><td>3</td><td>1</td><td>3</td></tr>\n",
       "\t<tr><td>4</td><td>4</td><td>3</td><td>4</td><td>3</td><td>3</td><td>3</td><td>5</td><td>3</td><td>3</td><td>3</td><td>3</td></tr>\n",
       "\t<tr><td>...</td><td>...</td><td>...</td><td>...</td><td>...</td><td>...</td><td>...</td><td>...</td><td>...</td><td>...</td><td>...</td><td>...</td></tr>\n",
       "\t<tr><td>5</td><td>4</td><td>3</td><td>4</td><td>4</td><td>4</td><td>5</td><td>5</td><td>4</td><td>5</td><td>3</td><td>4</td></tr>\n",
       "\t<tr><td>3</td><td>3</td><td>2</td><td>3</td><td>3</td><td>2</td><td>3</td><td>1</td><td>1</td><td>1</td><td>1</td><td>1</td></tr>\n",
       "\t<tr><td>1</td><td>1</td><td>1</td><td>1</td><td>1</td><td>1</td><td>5</td><td>1</td><td>1</td><td>1</td><td>1</td><td>1</td></tr>\n",
       "\t<tr><td>1</td><td>1</td><td>1</td><td>1</td><td>1</td><td>2</td><td>4</td><td>1</td><td>1</td><td>1</td><td>1</td><td>1</td></tr>\n",
       "\t<tr><td>1</td><td>1</td><td>1</td><td>1</td><td>3</td><td>3</td><td>5</td><td>1</td><td>1</td><td>1</td><td>1</td><td>1</td></tr>\n",
       "\t<tr><td>1</td><td>1</td><td>1</td><td>2</td><td>2</td><td>3</td><td>1</td><td>1</td><td>1</td><td>1</td><td>1</td><td>1</td></tr>\n",
       "\t<tr><td>3</td><td>2</td><td>1</td><td>3</td><td>3</td><td>4</td><td>4</td><td>1</td><td>1</td><td>1</td><td>1</td><td>1</td></tr>\n",
       "\t<tr><td>1</td><td>1</td><td>1</td><td>1</td><td>1</td><td>2</td><td>5</td><td>1</td><td>1</td><td>1</td><td>1</td><td>1</td></tr>\n",
       "\t<tr><td>1</td><td>1</td><td>1</td><td>3</td><td>3</td><td>3</td><td>4</td><td>1</td><td>1</td><td>1</td><td>1</td><td>1</td></tr>\n",
       "\t<tr><td>1</td><td>1</td><td>1</td><td>2</td><td>2</td><td>3</td><td>2</td><td>1</td><td>1</td><td>1</td><td>1</td><td>1</td></tr>\n",
       "\t<tr><td>4</td><td>3</td><td>2</td><td>4</td><td>4</td><td>4</td><td>5</td><td>3</td><td>3</td><td>4</td><td>3</td><td>3</td></tr>\n",
       "\t<tr><td>3</td><td>3</td><td>3</td><td>2</td><td>2</td><td>3</td><td>5</td><td>3</td><td>1</td><td>1</td><td>1</td><td>1</td></tr>\n",
       "\t<tr><td>4</td><td>2</td><td>1</td><td>2</td><td>3</td><td>4</td><td>4</td><td>4</td><td>4</td><td>3</td><td>1</td><td>1</td></tr>\n",
       "\t<tr><td>1</td><td>1</td><td>1</td><td>1</td><td>1</td><td>3</td><td>5</td><td>1</td><td>1</td><td>1</td><td>1</td><td>1</td></tr>\n",
       "\t<tr><td>3</td><td>3</td><td>2</td><td>2</td><td>2</td><td>2</td><td>4</td><td>4</td><td>3</td><td>3</td><td>3</td><td>3</td></tr>\n",
       "\t<tr><td>1</td><td>1</td><td>1</td><td>1</td><td>1</td><td>2</td><td>2</td><td>1</td><td>1</td><td>1</td><td>1</td><td>1</td></tr>\n",
       "\t<tr><td>1</td><td>1</td><td>1</td><td>1</td><td>1</td><td>3</td><td>4</td><td>1</td><td>1</td><td>1</td><td>1</td><td>1</td></tr>\n",
       "\t<tr><td>1</td><td>1</td><td>1</td><td>1</td><td>1</td><td>1</td><td>1</td><td>1</td><td>1</td><td>1</td><td>1</td><td>1</td></tr>\n",
       "\t<tr><td>3</td><td>3</td><td>3</td><td>3</td><td>3</td><td>3</td><td>2</td><td>3</td><td>3</td><td>3</td><td>3</td><td>3</td></tr>\n",
       "\t<tr><td>2</td><td>2</td><td>2</td><td>1</td><td>1</td><td>2</td><td>4</td><td>5</td><td>1</td><td>1</td><td>1</td><td>1</td></tr>\n",
       "\t<tr><td>1</td><td>1</td><td>1</td><td>1</td><td>1</td><td>3</td><td>4</td><td>1</td><td>1</td><td>1</td><td>1</td><td>1</td></tr>\n",
       "\t<tr><td>1</td><td>1</td><td>1</td><td>1</td><td>1</td><td>3</td><td>2</td><td>1</td><td>1</td><td>1</td><td>1</td><td>1</td></tr>\n",
       "\t<tr><td>1</td><td>1</td><td>1</td><td>1</td><td>1</td><td>4</td><td>5</td><td>1</td><td>1</td><td>1</td><td>1</td><td>1</td></tr>\n",
       "\t<tr><td>3</td><td>3</td><td>2</td><td>2</td><td>2</td><td>4</td><td>4</td><td>5</td><td>4</td><td>3</td><td>3</td><td>3</td></tr>\n",
       "\t<tr><td>1</td><td>1</td><td>1</td><td>3</td><td>3</td><td>4</td><td>4</td><td>1</td><td>1</td><td>1</td><td>1</td><td>1</td></tr>\n",
       "\t<tr><td>1</td><td>1</td><td>1</td><td>2</td><td>2</td><td>2</td><td>2</td><td>1</td><td>1</td><td>1</td><td>1</td><td>1</td></tr>\n",
       "\t<tr><td>1</td><td>1</td><td>1</td><td>1</td><td>1</td><td>3</td><td>4</td><td>1</td><td>1</td><td>1</td><td>1</td><td>1</td></tr>\n",
       "\t<tr><td>3</td><td>2</td><td>2</td><td>2</td><td>2</td><td>4</td><td>5</td><td>2</td><td>1</td><td>1</td><td>1</td><td>1</td></tr>\n",
       "\t<tr><td>1</td><td>1</td><td>1</td><td>1</td><td>3</td><td>3</td><td>5</td><td>1</td><td>1</td><td>1</td><td>1</td><td>1</td></tr>\n",
       "\t<tr><td>3</td><td>2</td><td>2</td><td>2</td><td>3</td><td>3</td><td>5</td><td>1</td><td>1</td><td>1</td><td>1</td><td>1</td></tr>\n",
       "</tbody>\n",
       "</table>\n"
      ],
      "text/latex": [
       "\\begin{tabular}{r|llllllllllll}\n",
       " Q1 & Q2 & Q3 & Q4 & Q5 & Q6 & Q7 & Q8 & Q9 & Q10 & Q11 & Q12\\\\\n",
       "\\hline\n",
       "\t 3 & 2 & 2 & 1 & 1 & 3 & 5 & 1 & 1 & 1 & 1 & 1\\\\\n",
       "\t 1 & 2 & 2 & 1 & 1 & 3 & 5 & 1 & 1 & 1 & 1 & 1\\\\\n",
       "\t 1 & 2 & 1 & 3 & 2 & 1 & 4 & 4 & 3 & 3 & 1 & 1\\\\\n",
       "\t 4 & 2 & 1 & 2 & 2 & 1 & 4 & 1 & 1 & 3 & 1 & 1\\\\\n",
       "\t 3 & 2 & 1 & 1 & 1 & 1 & 1 & 1 & 1 & 1 & 1 & 1\\\\\n",
       "\t 1 & 2 & 2 & 2 & 4 & 2 & 5 & 4 & 3 & 1 & 1 & 1\\\\\n",
       "\t 1 & 4 & 2 & 3 & 4 & 2 & 4 & 1 & 2 & 2 & 1 & 1\\\\\n",
       "\t 1 & 1 & 1 & 2 & 1 & 1 & 1 & 1 & 1 & 1 & 1 & 1\\\\\n",
       "\t 4 & 2 & 3 & 2 & 3 & 1 & 2 & 1 & 3 & 3 & 1 & 3\\\\\n",
       "\t 1 & 4 & 1 & 2 & 1 & 3 & 4 & 1 & 1 & 3 & 3 & 2\\\\\n",
       "\t 3 & 3 & 1 & 4 & 4 & 1 & 4 & 4 & 3 & 3 & 2 & 2\\\\\n",
       "\t 4 & 2 & 1 & 1 & 2 & 2 & 5 & 1 & 3 & 3 & 1 & 1\\\\\n",
       "\t 1 & 2 & 1 & 1 & 1 & 2 & 4 & 4 & 1 & 2 & 1 & 1\\\\\n",
       "\t 1 & 1 & 1 & 1 & 1 & 3 & 4 & 1 & 1 & 1 & 1 & 1\\\\\n",
       "\t 4 & 4 & 1 & 1 & 4 & 4 & 4 & 5 & 1 & 4 & 4 & 4\\\\\n",
       "\t 3 & 2 & 1 & 2 & 2 & 5 & 5 & 4 & 4 & 4 & 1 & 3\\\\\n",
       "\t 1 & 2 & 1 & 2 & 2 & 4 & 4 & 1 & 1 & 1 & 1 & 1\\\\\n",
       "\t 1 & 1 & 1 & 2 & 2 & 5 & 4 & 1 & 1 & 1 & 1 & 1\\\\\n",
       "\t 3 & 1 & 1 & 1 & 1 & 3 & 3 & 4 & 1 & 4 & 4 & 3\\\\\n",
       "\t 3 & 1 & 1 & 1 & 1 & 3 & 3 & 4 & 1 & 4 & 4 & 3\\\\\n",
       "\t 1 & 2 & 2 & 3 & 2 & 3 & 4 & 1 & 3 & 4 & 3 & 1\\\\\n",
       "\t 1 & 2 & 1 & 2 & 2 & 3 & 4 & 1 & 1 & 4 & 1 & 1\\\\\n",
       "\t 1 & 2 & 4 & 2 & 3 & 3 & 5 & 5 & 3 & 3 & 1 & 1\\\\\n",
       "\t 4 & 4 & 5 & 4 & 4 & 2 & 5 & 5 & 3 & 4 & 2 & 3\\\\\n",
       "\t 1 & 1 & 1 & 1 & 1 & 1 & 5 & 1 & 1 & 1 & 1 & 1\\\\\n",
       "\t 3 & 3 & 1 & 2 & 2 & 1 & 4 & 1 & 1 & 1 & 1 & 1\\\\\n",
       "\t 3 & 3 & 1 & 2 & 2 & 4 & 3 & 4 & 2 & 3 & 4 & 3\\\\\n",
       "\t 3 & 2 & 3 & 2 & 2 & 4 & 4 & 4 & 3 & 4 & 1 & 3\\\\\n",
       "\t 3 & 2 & 3 & 2 & 2 & 4 & 4 & 4 & 3 & 3 & 1 & 3\\\\\n",
       "\t 4 & 4 & 3 & 4 & 3 & 3 & 3 & 5 & 3 & 3 & 3 & 3\\\\\n",
       "\t ... & ... & ... & ... & ... & ... & ... & ... & ... & ... & ... & ...\\\\\n",
       "\t 5 & 4 & 3 & 4 & 4 & 4 & 5 & 5 & 4 & 5 & 3 & 4\\\\\n",
       "\t 3 & 3 & 2 & 3 & 3 & 2 & 3 & 1 & 1 & 1 & 1 & 1\\\\\n",
       "\t 1 & 1 & 1 & 1 & 1 & 1 & 5 & 1 & 1 & 1 & 1 & 1\\\\\n",
       "\t 1 & 1 & 1 & 1 & 1 & 2 & 4 & 1 & 1 & 1 & 1 & 1\\\\\n",
       "\t 1 & 1 & 1 & 1 & 3 & 3 & 5 & 1 & 1 & 1 & 1 & 1\\\\\n",
       "\t 1 & 1 & 1 & 2 & 2 & 3 & 1 & 1 & 1 & 1 & 1 & 1\\\\\n",
       "\t 3 & 2 & 1 & 3 & 3 & 4 & 4 & 1 & 1 & 1 & 1 & 1\\\\\n",
       "\t 1 & 1 & 1 & 1 & 1 & 2 & 5 & 1 & 1 & 1 & 1 & 1\\\\\n",
       "\t 1 & 1 & 1 & 3 & 3 & 3 & 4 & 1 & 1 & 1 & 1 & 1\\\\\n",
       "\t 1 & 1 & 1 & 2 & 2 & 3 & 2 & 1 & 1 & 1 & 1 & 1\\\\\n",
       "\t 4 & 3 & 2 & 4 & 4 & 4 & 5 & 3 & 3 & 4 & 3 & 3\\\\\n",
       "\t 3 & 3 & 3 & 2 & 2 & 3 & 5 & 3 & 1 & 1 & 1 & 1\\\\\n",
       "\t 4 & 2 & 1 & 2 & 3 & 4 & 4 & 4 & 4 & 3 & 1 & 1\\\\\n",
       "\t 1 & 1 & 1 & 1 & 1 & 3 & 5 & 1 & 1 & 1 & 1 & 1\\\\\n",
       "\t 3 & 3 & 2 & 2 & 2 & 2 & 4 & 4 & 3 & 3 & 3 & 3\\\\\n",
       "\t 1 & 1 & 1 & 1 & 1 & 2 & 2 & 1 & 1 & 1 & 1 & 1\\\\\n",
       "\t 1 & 1 & 1 & 1 & 1 & 3 & 4 & 1 & 1 & 1 & 1 & 1\\\\\n",
       "\t 1 & 1 & 1 & 1 & 1 & 1 & 1 & 1 & 1 & 1 & 1 & 1\\\\\n",
       "\t 3 & 3 & 3 & 3 & 3 & 3 & 2 & 3 & 3 & 3 & 3 & 3\\\\\n",
       "\t 2 & 2 & 2 & 1 & 1 & 2 & 4 & 5 & 1 & 1 & 1 & 1\\\\\n",
       "\t 1 & 1 & 1 & 1 & 1 & 3 & 4 & 1 & 1 & 1 & 1 & 1\\\\\n",
       "\t 1 & 1 & 1 & 1 & 1 & 3 & 2 & 1 & 1 & 1 & 1 & 1\\\\\n",
       "\t 1 & 1 & 1 & 1 & 1 & 4 & 5 & 1 & 1 & 1 & 1 & 1\\\\\n",
       "\t 3 & 3 & 2 & 2 & 2 & 4 & 4 & 5 & 4 & 3 & 3 & 3\\\\\n",
       "\t 1 & 1 & 1 & 3 & 3 & 4 & 4 & 1 & 1 & 1 & 1 & 1\\\\\n",
       "\t 1 & 1 & 1 & 2 & 2 & 2 & 2 & 1 & 1 & 1 & 1 & 1\\\\\n",
       "\t 1 & 1 & 1 & 1 & 1 & 3 & 4 & 1 & 1 & 1 & 1 & 1\\\\\n",
       "\t 3 & 2 & 2 & 2 & 2 & 4 & 5 & 2 & 1 & 1 & 1 & 1\\\\\n",
       "\t 1 & 1 & 1 & 1 & 3 & 3 & 5 & 1 & 1 & 1 & 1 & 1\\\\\n",
       "\t 3 & 2 & 2 & 2 & 3 & 3 & 5 & 1 & 1 & 1 & 1 & 1\\\\\n",
       "\\end{tabular}\n"
      ],
      "text/markdown": [
       "\n",
       "| Q1 | Q2 | Q3 | Q4 | Q5 | Q6 | Q7 | Q8 | Q9 | Q10 | Q11 | Q12 |\n",
       "|---|---|---|---|---|---|---|---|---|---|---|---|\n",
       "| 3 | 2 | 2 | 1 | 1 | 3 | 5 | 1 | 1 | 1 | 1 | 1 |\n",
       "| 1 | 2 | 2 | 1 | 1 | 3 | 5 | 1 | 1 | 1 | 1 | 1 |\n",
       "| 1 | 2 | 1 | 3 | 2 | 1 | 4 | 4 | 3 | 3 | 1 | 1 |\n",
       "| 4 | 2 | 1 | 2 | 2 | 1 | 4 | 1 | 1 | 3 | 1 | 1 |\n",
       "| 3 | 2 | 1 | 1 | 1 | 1 | 1 | 1 | 1 | 1 | 1 | 1 |\n",
       "| 1 | 2 | 2 | 2 | 4 | 2 | 5 | 4 | 3 | 1 | 1 | 1 |\n",
       "| 1 | 4 | 2 | 3 | 4 | 2 | 4 | 1 | 2 | 2 | 1 | 1 |\n",
       "| 1 | 1 | 1 | 2 | 1 | 1 | 1 | 1 | 1 | 1 | 1 | 1 |\n",
       "| 4 | 2 | 3 | 2 | 3 | 1 | 2 | 1 | 3 | 3 | 1 | 3 |\n",
       "| 1 | 4 | 1 | 2 | 1 | 3 | 4 | 1 | 1 | 3 | 3 | 2 |\n",
       "| 3 | 3 | 1 | 4 | 4 | 1 | 4 | 4 | 3 | 3 | 2 | 2 |\n",
       "| 4 | 2 | 1 | 1 | 2 | 2 | 5 | 1 | 3 | 3 | 1 | 1 |\n",
       "| 1 | 2 | 1 | 1 | 1 | 2 | 4 | 4 | 1 | 2 | 1 | 1 |\n",
       "| 1 | 1 | 1 | 1 | 1 | 3 | 4 | 1 | 1 | 1 | 1 | 1 |\n",
       "| 4 | 4 | 1 | 1 | 4 | 4 | 4 | 5 | 1 | 4 | 4 | 4 |\n",
       "| 3 | 2 | 1 | 2 | 2 | 5 | 5 | 4 | 4 | 4 | 1 | 3 |\n",
       "| 1 | 2 | 1 | 2 | 2 | 4 | 4 | 1 | 1 | 1 | 1 | 1 |\n",
       "| 1 | 1 | 1 | 2 | 2 | 5 | 4 | 1 | 1 | 1 | 1 | 1 |\n",
       "| 3 | 1 | 1 | 1 | 1 | 3 | 3 | 4 | 1 | 4 | 4 | 3 |\n",
       "| 3 | 1 | 1 | 1 | 1 | 3 | 3 | 4 | 1 | 4 | 4 | 3 |\n",
       "| 1 | 2 | 2 | 3 | 2 | 3 | 4 | 1 | 3 | 4 | 3 | 1 |\n",
       "| 1 | 2 | 1 | 2 | 2 | 3 | 4 | 1 | 1 | 4 | 1 | 1 |\n",
       "| 1 | 2 | 4 | 2 | 3 | 3 | 5 | 5 | 3 | 3 | 1 | 1 |\n",
       "| 4 | 4 | 5 | 4 | 4 | 2 | 5 | 5 | 3 | 4 | 2 | 3 |\n",
       "| 1 | 1 | 1 | 1 | 1 | 1 | 5 | 1 | 1 | 1 | 1 | 1 |\n",
       "| 3 | 3 | 1 | 2 | 2 | 1 | 4 | 1 | 1 | 1 | 1 | 1 |\n",
       "| 3 | 3 | 1 | 2 | 2 | 4 | 3 | 4 | 2 | 3 | 4 | 3 |\n",
       "| 3 | 2 | 3 | 2 | 2 | 4 | 4 | 4 | 3 | 4 | 1 | 3 |\n",
       "| 3 | 2 | 3 | 2 | 2 | 4 | 4 | 4 | 3 | 3 | 1 | 3 |\n",
       "| 4 | 4 | 3 | 4 | 3 | 3 | 3 | 5 | 3 | 3 | 3 | 3 |\n",
       "| ... | ... | ... | ... | ... | ... | ... | ... | ... | ... | ... | ... |\n",
       "| 5 | 4 | 3 | 4 | 4 | 4 | 5 | 5 | 4 | 5 | 3 | 4 |\n",
       "| 3 | 3 | 2 | 3 | 3 | 2 | 3 | 1 | 1 | 1 | 1 | 1 |\n",
       "| 1 | 1 | 1 | 1 | 1 | 1 | 5 | 1 | 1 | 1 | 1 | 1 |\n",
       "| 1 | 1 | 1 | 1 | 1 | 2 | 4 | 1 | 1 | 1 | 1 | 1 |\n",
       "| 1 | 1 | 1 | 1 | 3 | 3 | 5 | 1 | 1 | 1 | 1 | 1 |\n",
       "| 1 | 1 | 1 | 2 | 2 | 3 | 1 | 1 | 1 | 1 | 1 | 1 |\n",
       "| 3 | 2 | 1 | 3 | 3 | 4 | 4 | 1 | 1 | 1 | 1 | 1 |\n",
       "| 1 | 1 | 1 | 1 | 1 | 2 | 5 | 1 | 1 | 1 | 1 | 1 |\n",
       "| 1 | 1 | 1 | 3 | 3 | 3 | 4 | 1 | 1 | 1 | 1 | 1 |\n",
       "| 1 | 1 | 1 | 2 | 2 | 3 | 2 | 1 | 1 | 1 | 1 | 1 |\n",
       "| 4 | 3 | 2 | 4 | 4 | 4 | 5 | 3 | 3 | 4 | 3 | 3 |\n",
       "| 3 | 3 | 3 | 2 | 2 | 3 | 5 | 3 | 1 | 1 | 1 | 1 |\n",
       "| 4 | 2 | 1 | 2 | 3 | 4 | 4 | 4 | 4 | 3 | 1 | 1 |\n",
       "| 1 | 1 | 1 | 1 | 1 | 3 | 5 | 1 | 1 | 1 | 1 | 1 |\n",
       "| 3 | 3 | 2 | 2 | 2 | 2 | 4 | 4 | 3 | 3 | 3 | 3 |\n",
       "| 1 | 1 | 1 | 1 | 1 | 2 | 2 | 1 | 1 | 1 | 1 | 1 |\n",
       "| 1 | 1 | 1 | 1 | 1 | 3 | 4 | 1 | 1 | 1 | 1 | 1 |\n",
       "| 1 | 1 | 1 | 1 | 1 | 1 | 1 | 1 | 1 | 1 | 1 | 1 |\n",
       "| 3 | 3 | 3 | 3 | 3 | 3 | 2 | 3 | 3 | 3 | 3 | 3 |\n",
       "| 2 | 2 | 2 | 1 | 1 | 2 | 4 | 5 | 1 | 1 | 1 | 1 |\n",
       "| 1 | 1 | 1 | 1 | 1 | 3 | 4 | 1 | 1 | 1 | 1 | 1 |\n",
       "| 1 | 1 | 1 | 1 | 1 | 3 | 2 | 1 | 1 | 1 | 1 | 1 |\n",
       "| 1 | 1 | 1 | 1 | 1 | 4 | 5 | 1 | 1 | 1 | 1 | 1 |\n",
       "| 3 | 3 | 2 | 2 | 2 | 4 | 4 | 5 | 4 | 3 | 3 | 3 |\n",
       "| 1 | 1 | 1 | 3 | 3 | 4 | 4 | 1 | 1 | 1 | 1 | 1 |\n",
       "| 1 | 1 | 1 | 2 | 2 | 2 | 2 | 1 | 1 | 1 | 1 | 1 |\n",
       "| 1 | 1 | 1 | 1 | 1 | 3 | 4 | 1 | 1 | 1 | 1 | 1 |\n",
       "| 3 | 2 | 2 | 2 | 2 | 4 | 5 | 2 | 1 | 1 | 1 | 1 |\n",
       "| 1 | 1 | 1 | 1 | 3 | 3 | 5 | 1 | 1 | 1 | 1 | 1 |\n",
       "| 3 | 2 | 2 | 2 | 3 | 3 | 5 | 1 | 1 | 1 | 1 | 1 |\n",
       "\n"
      ],
      "text/plain": [
       "    Q1  Q2  Q3  Q4  Q5  Q6  Q7  Q8  Q9  Q10 Q11 Q12\n",
       "1   3   2   2   1   1   3   5   1   1   1   1   1  \n",
       "2   1   2   2   1   1   3   5   1   1   1   1   1  \n",
       "3   1   2   1   3   2   1   4   4   3   3   1   1  \n",
       "4   4   2   1   2   2   1   4   1   1   3   1   1  \n",
       "5   3   2   1   1   1   1   1   1   1   1   1   1  \n",
       "6   1   2   2   2   4   2   5   4   3   1   1   1  \n",
       "7   1   4   2   3   4   2   4   1   2   2   1   1  \n",
       "8   1   1   1   2   1   1   1   1   1   1   1   1  \n",
       "9   4   2   3   2   3   1   2   1   3   3   1   3  \n",
       "10  1   4   1   2   1   3   4   1   1   3   3   2  \n",
       "11  3   3   1   4   4   1   4   4   3   3   2   2  \n",
       "12  4   2   1   1   2   2   5   1   3   3   1   1  \n",
       "13  1   2   1   1   1   2   4   4   1   2   1   1  \n",
       "14  1   1   1   1   1   3   4   1   1   1   1   1  \n",
       "15  4   4   1   1   4   4   4   5   1   4   4   4  \n",
       "16  3   2   1   2   2   5   5   4   4   4   1   3  \n",
       "17  1   2   1   2   2   4   4   1   1   1   1   1  \n",
       "18  1   1   1   2   2   5   4   1   1   1   1   1  \n",
       "19  3   1   1   1   1   3   3   4   1   4   4   3  \n",
       "20  3   1   1   1   1   3   3   4   1   4   4   3  \n",
       "21  1   2   2   3   2   3   4   1   3   4   3   1  \n",
       "22  1   2   1   2   2   3   4   1   1   4   1   1  \n",
       "23  1   2   4   2   3   3   5   5   3   3   1   1  \n",
       "24  4   4   5   4   4   2   5   5   3   4   2   3  \n",
       "25  1   1   1   1   1   1   5   1   1   1   1   1  \n",
       "26  3   3   1   2   2   1   4   1   1   1   1   1  \n",
       "27  3   3   1   2   2   4   3   4   2   3   4   3  \n",
       "28  3   2   3   2   2   4   4   4   3   4   1   3  \n",
       "29  3   2   3   2   2   4   4   4   3   3   1   3  \n",
       "30  4   4   3   4   3   3   3   5   3   3   3   3  \n",
       "... ... ... ... ... ... ... ... ... ... ... ... ...\n",
       "471 5   4   3   4   4   4   5   5   4   5   3   4  \n",
       "472 3   3   2   3   3   2   3   1   1   1   1   1  \n",
       "473 1   1   1   1   1   1   5   1   1   1   1   1  \n",
       "474 1   1   1   1   1   2   4   1   1   1   1   1  \n",
       "475 1   1   1   1   3   3   5   1   1   1   1   1  \n",
       "476 1   1   1   2   2   3   1   1   1   1   1   1  \n",
       "477 3   2   1   3   3   4   4   1   1   1   1   1  \n",
       "478 1   1   1   1   1   2   5   1   1   1   1   1  \n",
       "479 1   1   1   3   3   3   4   1   1   1   1   1  \n",
       "480 1   1   1   2   2   3   2   1   1   1   1   1  \n",
       "481 4   3   2   4   4   4   5   3   3   4   3   3  \n",
       "482 3   3   3   2   2   3   5   3   1   1   1   1  \n",
       "483 4   2   1   2   3   4   4   4   4   3   1   1  \n",
       "484 1   1   1   1   1   3   5   1   1   1   1   1  \n",
       "485 3   3   2   2   2   2   4   4   3   3   3   3  \n",
       "486 1   1   1   1   1   2   2   1   1   1   1   1  \n",
       "487 1   1   1   1   1   3   4   1   1   1   1   1  \n",
       "488 1   1   1   1   1   1   1   1   1   1   1   1  \n",
       "489 3   3   3   3   3   3   2   3   3   3   3   3  \n",
       "490 2   2   2   1   1   2   4   5   1   1   1   1  \n",
       "491 1   1   1   1   1   3   4   1   1   1   1   1  \n",
       "492 1   1   1   1   1   3   2   1   1   1   1   1  \n",
       "493 1   1   1   1   1   4   5   1   1   1   1   1  \n",
       "494 3   3   2   2   2   4   4   5   4   3   3   3  \n",
       "495 1   1   1   3   3   4   4   1   1   1   1   1  \n",
       "496 1   1   1   2   2   2   2   1   1   1   1   1  \n",
       "497 1   1   1   1   1   3   4   1   1   1   1   1  \n",
       "498 3   2   2   2   2   4   5   2   1   1   1   1  \n",
       "499 1   1   1   1   3   3   5   1   1   1   1   1  \n",
       "500 3   2   2   2   3   3   5   1   1   1   1   1  "
      ]
     },
     "metadata": {},
     "output_type": "display_data"
    }
   ],
   "source": [
    "mydata"
   ]
  },
  {
   "cell_type": "code",
   "execution_count": 83,
   "metadata": {},
   "outputs": [
    {
     "name": "stdout",
     "output_type": "stream",
     "text": [
      "[1] \"Q1  = Seberapa sering anda menggunakan bahasa pemrograman C?\"\n",
      "[1] \"Q2  = Seberapa tahukah anda tentang bahasa permograman Java?\"\n",
      "[1] \"Q3  = Pernahkah anda membuat program menggunakan bahasa pemrograman Python?\"\n",
      "[1] \"Q4  = Seberapa tahukah anda tentang Pemrograman Interface (API)\"\n",
      "[1] \"Q5  = Seberapa tahukah anda tentang Pemrograman Berorientasi Objek (OOP)?\"\n",
      "[1] \"Q6  = Seberapa sering anda menggunakan programming software bajakan?\"\n",
      "[1] \"Q7  = Seberapa perlunya dokumen manual/tutorial ketika membuat program?\"\n",
      "[1] \"Q8  = Pernakah anda melakukan trial dan error atau mengembangkan program yang dibuat orang lain?\"\n",
      "[1] \"Q9  = Seberapa seringkah anda menggunakan Extension saat membuat program?\"\n",
      "[1] \"Q10 = Seberapa sering anda mengelola (menginstal,menghapus,menonaktifkan instalasi) Extension anda?\"\n",
      "[1] \"Q11 = Apakah anda sering menggunakan Extension berbayar?\"\n",
      "[1] \"Q12 = Apakah anda sering menggunakan Auto Indent Extension\"\n"
     ]
    }
   ],
   "source": [
    "print('Q1  = Seberapa sering anda menggunakan bahasa pemrograman C?')\n",
    "print('Q2  = Seberapa tahukah anda tentang bahasa permograman Java?') \n",
    "print('Q3  = Pernahkah anda membuat program menggunakan bahasa pemrograman Python?')\n",
    "print('Q4  = Seberapa tahukah anda tentang Pemrograman Interface (API)')\n",
    "print('Q5  = Seberapa tahukah anda tentang Pemrograman Berorientasi Objek (OOP)?')\n",
    "print('Q6  = Seberapa sering anda menggunakan programming software bajakan?')\n",
    "print('Q7  = Seberapa perlunya dokumen manual/tutorial ketika membuat program?')\n",
    "print('Q8  = Pernakah anda melakukan trial dan error atau mengembangkan program yang dibuat orang lain?')\n",
    "print('Q9  = Seberapa seringkah anda menggunakan Extension saat membuat program?')\n",
    "print('Q10 = Seberapa sering anda mengelola (menginstal,menghapus,menonaktifkan instalasi) Extension anda?')\n",
    "print('Q11 = Apakah anda sering menggunakan Extension berbayar?')\n",
    "print('Q12 = Apakah anda sering menggunakan Auto Indent Extension')"
   ]
  },
  {
   "cell_type": "code",
   "execution_count": 84,
   "metadata": {},
   "outputs": [],
   "source": [
    "#Mengambil variabel numaerik\n",
    "data <- mydata[,1:12]\n",
    "data.species <- mydata[,12]"
   ]
  },
  {
   "cell_type": "code",
   "execution_count": 52,
   "metadata": {},
   "outputs": [],
   "source": [
    "#Apply PCA\n",
    "data.pca <- princomp(data, cor=TRUE, score=TRUE)"
   ]
  },
  {
   "cell_type": "code",
   "execution_count": 53,
   "metadata": {},
   "outputs": [
    {
     "data": {
      "text/plain": [
       "Importance of components:\n",
       "                          Comp.1     Comp.2     Comp.3     Comp.4     Comp.5\n",
       "Standard deviation     2.3326266 1.05363651 1.04463937 0.94732751 0.81696147\n",
       "Proportion of Variance 0.4534289 0.09251249 0.09093928 0.07478578 0.05561884\n",
       "Cumulative Proportion  0.4534289 0.54594139 0.63688068 0.71166646 0.76728530\n",
       "                           Comp.6     Comp.7     Comp.8     Comp.9    Comp.10\n",
       "Standard deviation     0.77918558 0.70649401 0.67917055 0.64008184 0.56680324\n",
       "Proportion of Variance 0.05059418 0.04159448 0.03843939 0.03414206 0.02677216\n",
       "Cumulative Proportion  0.81787948 0.85947396 0.89791335 0.93205541 0.95882757\n",
       "                          Comp.11    Comp.12\n",
       "Standard deviation     0.52292734 0.46969796\n",
       "Proportion of Variance 0.02278775 0.01838468\n",
       "Cumulative Proportion  0.98161532 1.00000000"
      ]
     },
     "metadata": {},
     "output_type": "display_data"
    }
   ],
   "source": [
    "summary(data.pca)"
   ]
  },
  {
   "cell_type": "code",
   "execution_count": 54,
   "metadata": {},
   "outputs": [
    {
     "data": {
      "text/plain": [
       "\n",
       "Loadings:\n",
       "    Comp.1 Comp.2 Comp.3 Comp.4 Comp.5 Comp.6 Comp.7 Comp.8 Comp.9 Comp.10\n",
       "Q1   0.263  0.172  0.208  0.428  0.233  0.653  0.176  0.179  0.357        \n",
       "Q2   0.308  0.334         0.168 -0.113  0.253 -0.155 -0.259 -0.772        \n",
       "Q3   0.277  0.245        -0.326  0.584 -0.148 -0.196  0.528 -0.134 -0.221 \n",
       "Q4   0.316  0.384 -0.148 -0.142 -0.296        -0.109 -0.103  0.320  0.101 \n",
       "Q5   0.314  0.350 -0.242 -0.161 -0.291               -0.120  0.297 -0.183 \n",
       "Q6   0.177 -0.498 -0.406 -0.382 -0.254  0.537         0.199               \n",
       "Q7   0.135 -0.190 -0.614  0.631  0.112 -0.235 -0.299                      \n",
       "Q8   0.295 -0.240 -0.147 -0.134  0.489         0.339 -0.643        -0.178 \n",
       "Q9   0.357 -0.107                      -0.257  0.428  0.213 -0.139  0.282 \n",
       "Q10  0.317 -0.242  0.216  0.235 -0.286 -0.224  0.343  0.262 -0.119 -0.376 \n",
       "Q11  0.284 -0.270  0.442                      -0.579 -0.160  0.139 -0.367 \n",
       "Q12  0.340 -0.211  0.252 -0.132               -0.208                0.714 \n",
       "    Comp.11 Comp.12\n",
       "Q1                 \n",
       "Q2                 \n",
       "Q3                 \n",
       "Q4  -0.676   0.146 \n",
       "Q5   0.643  -0.224 \n",
       "Q6                 \n",
       "Q7                 \n",
       "Q8  -0.116         \n",
       "Q9   0.192   0.649 \n",
       "Q10 -0.234  -0.459 \n",
       "Q11  0.117   0.331 \n",
       "Q12         -0.425 \n",
       "\n",
       "               Comp.1 Comp.2 Comp.3 Comp.4 Comp.5 Comp.6 Comp.7 Comp.8 Comp.9\n",
       "SS loadings     1.000  1.000  1.000  1.000  1.000  1.000  1.000  1.000  1.000\n",
       "Proportion Var  0.083  0.083  0.083  0.083  0.083  0.083  0.083  0.083  0.083\n",
       "Cumulative Var  0.083  0.167  0.250  0.333  0.417  0.500  0.583  0.667  0.750\n",
       "               Comp.10 Comp.11 Comp.12\n",
       "SS loadings      1.000   1.000   1.000\n",
       "Proportion Var   0.083   0.083   0.083\n",
       "Cumulative Var   0.833   0.917   1.000"
      ]
     },
     "metadata": {},
     "output_type": "display_data"
    }
   ],
   "source": [
    "loadings(data.pca)"
   ]
  },
  {
   "cell_type": "code",
   "execution_count": 56,
   "metadata": {},
   "outputs": [
    {
     "data": {
      "text/html": [
       "<table>\n",
       "<thead><tr><th scope=col>Comp.1</th><th scope=col>Comp.2</th><th scope=col>Comp.3</th><th scope=col>Comp.4</th><th scope=col>Comp.5</th><th scope=col>Comp.6</th><th scope=col>Comp.7</th><th scope=col>Comp.8</th><th scope=col>Comp.9</th><th scope=col>Comp.10</th><th scope=col>Comp.11</th><th scope=col>Comp.12</th></tr></thead>\n",
       "<tbody>\n",
       "\t<tr><td>-1.39424511 </td><td>-0.2095402  </td><td>-0.90702467 </td><td> 0.70604881 </td><td> 0.8797301  </td><td> 1.032298287</td><td>-0.6821883  </td><td> 0.9153494  </td><td>-0.2220845  </td><td> 0.08585117 </td><td> 0.04777350 </td><td> 0.06923141 </td></tr>\n",
       "\t<tr><td>-1.83137882 </td><td>-0.4952751  </td><td>-1.25258829 </td><td>-0.00421871 </td><td> 0.4926064  </td><td>-0.051617661</td><td>-0.9738196  </td><td> 0.6177783  </td><td>-0.8149299  </td><td> 0.02914474 </td><td> 0.01431725 </td><td>-0.00766385 </td></tr>\n",
       "\t<tr><td> 0.11689131 </td><td> 0.1348106  </td><td>-0.48933132 </td><td> 0.07425186 </td><td>-0.1010106  </td><td>-1.611737556</td><td> 1.4129576  </td><td>-1.2283774  </td><td>-0.0692525  </td><td>-0.23355963 </td><td>-0.94339220 </td><td> 0.35428001 </td></tr>\n",
       "\t<tr><td>-0.75732872 </td><td> 0.9031973  </td><td> 0.45112320 </td><td> 1.56732256 </td><td>-0.1746333  </td><td> 0.565602130</td><td> 0.5126018  </td><td> 0.4034306  </td><td> 0.6359999  </td><td>-0.30232042 </td><td>-0.30134239 </td><td>-0.66146148 </td></tr>\n",
       "\t<tr><td>-2.36737568 </td><td> 0.9228113  </td><td> 1.74451675 </td><td>-0.37925142 </td><td> 0.3492732  </td><td> 1.087539763</td><td> 0.5868997  </td><td>-0.0915630  </td><td>-0.1798377  </td><td> 0.14401020 </td><td> 0.09119111 </td><td> 0.09022542 </td></tr>\n",
       "\t<tr><td> 0.37610313 </td><td> 0.4588032  </td><td>-1.98738232 </td><td>-0.55440749 </td><td> 0.5900887  </td><td>-1.208439947</td><td> 0.5908449  </td><td>-1.0330263  </td><td> 0.1909418  </td><td>-0.25207281 </td><td> 1.12640259 </td><td> 0.52061802 </td></tr>\n",
       "\t<tr><td> 0.44229160 </td><td> 2.0170837  </td><td>-1.17061880 </td><td>-0.39964598 </td><td>-1.2238458  </td><td>-0.571534721</td><td>-0.3888433  </td><td>-0.1879041  </td><td>-1.0533447  </td><td>-0.28469617 </td><td> 0.40409992 </td><td>-0.21518953 </td></tr>\n",
       "\t<tr><td>-2.78604414 </td><td> 0.6963650  </td><td> 1.25941882 </td><td>-1.37870682 </td><td>-0.2158293  </td><td>-0.319985546</td><td> 0.3346350  </td><td>-0.2488263  </td><td> 0.2404219  </td><td> 0.15412296 </td><td>-0.59523964 </td><td> 0.17564789 </td></tr>\n",
       "\t<tr><td> 1.05172744 </td><td> 1.4204111  </td><td> 1.56631976 </td><td>-0.45035621 </td><td> 0.5415694  </td><td> 0.006560189</td><td> 0.9548211  </td><td> 1.5277687  </td><td> 0.4417898  </td><td> 0.77742735 </td><td> 0.60452031 </td><td>-0.68882375 </td></tr>\n",
       "\t<tr><td> 0.02267922 </td><td>-0.7069662  </td><td> 0.60323785 </td><td> 0.32068115 </td><td>-1.1744718  </td><td> 0.080364034</td><td>-1.7113102  </td><td>-0.4450066  </td><td>-1.6945826  </td><td>-0.29326919 </td><td>-0.66539866 </td><td>-0.34443452 </td></tr>\n",
       "\t<tr><td> 2.27367284 </td><td> 1.2392308  </td><td>-0.03918872 </td><td> 0.44447204 </td><td>-0.5978201  </td><td>-0.663938812</td><td> 0.8107937  </td><td>-1.6572891  </td><td> 0.8343941  </td><td>-0.05592032 </td><td>-0.24979497 </td><td> 0.08150858 </td></tr>\n",
       "\t<tr><td>-0.24145643 </td><td>-0.1695280  </td><td>-0.16381829 </td><td> 1.90968685 </td><td>-0.1540767  </td><td> 0.474730082</td><td> 1.0018059  </td><td> 1.0428701  </td><td> 0.1037889  </td><td> 0.07533239 </td><td> 0.63106350 </td><td> 0.25983839 </td></tr>\n",
       "</tbody>\n",
       "</table>\n"
      ],
      "text/latex": [
       "\\begin{tabular}{llllllllllll}\n",
       " Comp.1 & Comp.2 & Comp.3 & Comp.4 & Comp.5 & Comp.6 & Comp.7 & Comp.8 & Comp.9 & Comp.10 & Comp.11 & Comp.12\\\\\n",
       "\\hline\n",
       "\t -1.39424511  & -0.2095402   & -0.90702467  &  0.70604881  &  0.8797301   &  1.032298287 & -0.6821883   &  0.9153494   & -0.2220845   &  0.08585117  &  0.04777350  &  0.06923141 \\\\\n",
       "\t -1.83137882  & -0.4952751   & -1.25258829  & -0.00421871  &  0.4926064   & -0.051617661 & -0.9738196   &  0.6177783   & -0.8149299   &  0.02914474  &  0.01431725  & -0.00766385 \\\\\n",
       "\t  0.11689131  &  0.1348106   & -0.48933132  &  0.07425186  & -0.1010106   & -1.611737556 &  1.4129576   & -1.2283774   & -0.0692525   & -0.23355963  & -0.94339220  &  0.35428001 \\\\\n",
       "\t -0.75732872  &  0.9031973   &  0.45112320  &  1.56732256  & -0.1746333   &  0.565602130 &  0.5126018   &  0.4034306   &  0.6359999   & -0.30232042  & -0.30134239  & -0.66146148 \\\\\n",
       "\t -2.36737568  &  0.9228113   &  1.74451675  & -0.37925142  &  0.3492732   &  1.087539763 &  0.5868997   & -0.0915630   & -0.1798377   &  0.14401020  &  0.09119111  &  0.09022542 \\\\\n",
       "\t  0.37610313  &  0.4588032   & -1.98738232  & -0.55440749  &  0.5900887   & -1.208439947 &  0.5908449   & -1.0330263   &  0.1909418   & -0.25207281  &  1.12640259  &  0.52061802 \\\\\n",
       "\t  0.44229160  &  2.0170837   & -1.17061880  & -0.39964598  & -1.2238458   & -0.571534721 & -0.3888433   & -0.1879041   & -1.0533447   & -0.28469617  &  0.40409992  & -0.21518953 \\\\\n",
       "\t -2.78604414  &  0.6963650   &  1.25941882  & -1.37870682  & -0.2158293   & -0.319985546 &  0.3346350   & -0.2488263   &  0.2404219   &  0.15412296  & -0.59523964  &  0.17564789 \\\\\n",
       "\t  1.05172744  &  1.4204111   &  1.56631976  & -0.45035621  &  0.5415694   &  0.006560189 &  0.9548211   &  1.5277687   &  0.4417898   &  0.77742735  &  0.60452031  & -0.68882375 \\\\\n",
       "\t  0.02267922  & -0.7069662   &  0.60323785  &  0.32068115  & -1.1744718   &  0.080364034 & -1.7113102   & -0.4450066   & -1.6945826   & -0.29326919  & -0.66539866  & -0.34443452 \\\\\n",
       "\t  2.27367284  &  1.2392308   & -0.03918872  &  0.44447204  & -0.5978201   & -0.663938812 &  0.8107937   & -1.6572891   &  0.8343941   & -0.05592032  & -0.24979497  &  0.08150858 \\\\\n",
       "\t -0.24145643  & -0.1695280   & -0.16381829  &  1.90968685  & -0.1540767   &  0.474730082 &  1.0018059   &  1.0428701   &  0.1037889   &  0.07533239  &  0.63106350  &  0.25983839 \\\\\n",
       "\\end{tabular}\n"
      ],
      "text/markdown": [
       "\n",
       "| Comp.1 | Comp.2 | Comp.3 | Comp.4 | Comp.5 | Comp.6 | Comp.7 | Comp.8 | Comp.9 | Comp.10 | Comp.11 | Comp.12 |\n",
       "|---|---|---|---|---|---|---|---|---|---|---|---|\n",
       "| -1.39424511  | -0.2095402   | -0.90702467  |  0.70604881  |  0.8797301   |  1.032298287 | -0.6821883   |  0.9153494   | -0.2220845   |  0.08585117  |  0.04777350  |  0.06923141  |\n",
       "| -1.83137882  | -0.4952751   | -1.25258829  | -0.00421871  |  0.4926064   | -0.051617661 | -0.9738196   |  0.6177783   | -0.8149299   |  0.02914474  |  0.01431725  | -0.00766385  |\n",
       "|  0.11689131  |  0.1348106   | -0.48933132  |  0.07425186  | -0.1010106   | -1.611737556 |  1.4129576   | -1.2283774   | -0.0692525   | -0.23355963  | -0.94339220  |  0.35428001  |\n",
       "| -0.75732872  |  0.9031973   |  0.45112320  |  1.56732256  | -0.1746333   |  0.565602130 |  0.5126018   |  0.4034306   |  0.6359999   | -0.30232042  | -0.30134239  | -0.66146148  |\n",
       "| -2.36737568  |  0.9228113   |  1.74451675  | -0.37925142  |  0.3492732   |  1.087539763 |  0.5868997   | -0.0915630   | -0.1798377   |  0.14401020  |  0.09119111  |  0.09022542  |\n",
       "|  0.37610313  |  0.4588032   | -1.98738232  | -0.55440749  |  0.5900887   | -1.208439947 |  0.5908449   | -1.0330263   |  0.1909418   | -0.25207281  |  1.12640259  |  0.52061802  |\n",
       "|  0.44229160  |  2.0170837   | -1.17061880  | -0.39964598  | -1.2238458   | -0.571534721 | -0.3888433   | -0.1879041   | -1.0533447   | -0.28469617  |  0.40409992  | -0.21518953  |\n",
       "| -2.78604414  |  0.6963650   |  1.25941882  | -1.37870682  | -0.2158293   | -0.319985546 |  0.3346350   | -0.2488263   |  0.2404219   |  0.15412296  | -0.59523964  |  0.17564789  |\n",
       "|  1.05172744  |  1.4204111   |  1.56631976  | -0.45035621  |  0.5415694   |  0.006560189 |  0.9548211   |  1.5277687   |  0.4417898   |  0.77742735  |  0.60452031  | -0.68882375  |\n",
       "|  0.02267922  | -0.7069662   |  0.60323785  |  0.32068115  | -1.1744718   |  0.080364034 | -1.7113102   | -0.4450066   | -1.6945826   | -0.29326919  | -0.66539866  | -0.34443452  |\n",
       "|  2.27367284  |  1.2392308   | -0.03918872  |  0.44447204  | -0.5978201   | -0.663938812 |  0.8107937   | -1.6572891   |  0.8343941   | -0.05592032  | -0.24979497  |  0.08150858  |\n",
       "| -0.24145643  | -0.1695280   | -0.16381829  |  1.90968685  | -0.1540767   |  0.474730082 |  1.0018059   |  1.0428701   |  0.1037889   |  0.07533239  |  0.63106350  |  0.25983839  |\n",
       "\n"
      ],
      "text/plain": [
       "      Comp.1      Comp.2     Comp.3      Comp.4      Comp.5     Comp.6      \n",
       " [1,] -1.39424511 -0.2095402 -0.90702467  0.70604881  0.8797301  1.032298287\n",
       " [2,] -1.83137882 -0.4952751 -1.25258829 -0.00421871  0.4926064 -0.051617661\n",
       " [3,]  0.11689131  0.1348106 -0.48933132  0.07425186 -0.1010106 -1.611737556\n",
       " [4,] -0.75732872  0.9031973  0.45112320  1.56732256 -0.1746333  0.565602130\n",
       " [5,] -2.36737568  0.9228113  1.74451675 -0.37925142  0.3492732  1.087539763\n",
       " [6,]  0.37610313  0.4588032 -1.98738232 -0.55440749  0.5900887 -1.208439947\n",
       " [7,]  0.44229160  2.0170837 -1.17061880 -0.39964598 -1.2238458 -0.571534721\n",
       " [8,] -2.78604414  0.6963650  1.25941882 -1.37870682 -0.2158293 -0.319985546\n",
       " [9,]  1.05172744  1.4204111  1.56631976 -0.45035621  0.5415694  0.006560189\n",
       "[10,]  0.02267922 -0.7069662  0.60323785  0.32068115 -1.1744718  0.080364034\n",
       "[11,]  2.27367284  1.2392308 -0.03918872  0.44447204 -0.5978201 -0.663938812\n",
       "[12,] -0.24145643 -0.1695280 -0.16381829  1.90968685 -0.1540767  0.474730082\n",
       "      Comp.7     Comp.8     Comp.9     Comp.10     Comp.11     Comp.12    \n",
       " [1,] -0.6821883  0.9153494 -0.2220845  0.08585117  0.04777350  0.06923141\n",
       " [2,] -0.9738196  0.6177783 -0.8149299  0.02914474  0.01431725 -0.00766385\n",
       " [3,]  1.4129576 -1.2283774 -0.0692525 -0.23355963 -0.94339220  0.35428001\n",
       " [4,]  0.5126018  0.4034306  0.6359999 -0.30232042 -0.30134239 -0.66146148\n",
       " [5,]  0.5868997 -0.0915630 -0.1798377  0.14401020  0.09119111  0.09022542\n",
       " [6,]  0.5908449 -1.0330263  0.1909418 -0.25207281  1.12640259  0.52061802\n",
       " [7,] -0.3888433 -0.1879041 -1.0533447 -0.28469617  0.40409992 -0.21518953\n",
       " [8,]  0.3346350 -0.2488263  0.2404219  0.15412296 -0.59523964  0.17564789\n",
       " [9,]  0.9548211  1.5277687  0.4417898  0.77742735  0.60452031 -0.68882375\n",
       "[10,] -1.7113102 -0.4450066 -1.6945826 -0.29326919 -0.66539866 -0.34443452\n",
       "[11,]  0.8107937 -1.6572891  0.8343941 -0.05592032 -0.24979497  0.08150858\n",
       "[12,]  1.0018059  1.0428701  0.1037889  0.07533239  0.63106350  0.25983839"
      ]
     },
     "metadata": {},
     "output_type": "display_data"
    }
   ],
   "source": [
    "data.pca$scores[1:12,]"
   ]
  },
  {
   "cell_type": "code",
   "execution_count": 42,
   "metadata": {},
   "outputs": [
    {
     "data": {
      "image/png": "[encoded data removed]",
      "text/plain": [
       "Plot with title \"data.pca\""
      ]
     },
     "metadata": {},
     "output_type": "display_data"
    },
    {
     "data": {
      "image/png": "[encoded data removed]",
      "text/plain": [
       "Plot with title \"scree plot\""
      ]
     },
     "metadata": {},
     "output_type": "display_data"
    }
   ],
   "source": [
    "plot(data.pca)\n",
    "screeplot(data.pca, type=\"line\", main=\"scree plot\")"
   ]
  },
  {
   "cell_type": "code",
   "execution_count": 32,
   "metadata": {},
   "outputs": [
    {
     "data": {
      "image/png": "[encoded data removed]",
      "text/plain": [
       "plot without title"
      ]
     },
     "metadata": {},
     "output_type": "display_data"
    }
   ],
   "source": [
    "biplot(data.pca)"
   ]
  }
 ],
 "metadata": {
  "kernelspec": {
   "display_name": "R",
   "language": "R",
   "name": "ir"
  },
  "language_info": {
   "codemirror_mode": "r",
   "file_extension": ".r",
   "mimetype": "text/x-r-source",
   "name": "R",
   "pygments_lexer": "r",
   "version": "3.6.1"
  }
 },
 "nbformat": 4,
 "nbformat_minor": 4
}
